{
 "cells": [
  {
   "cell_type": "code",
   "execution_count": 4,
   "id": "a37a68ff-649b-478f-950d-1fac69a5fbf7",
   "metadata": {},
   "outputs": [
    {
     "ename": "SyntaxError",
     "evalue": "invalid syntax (2316027429.py, line 1)",
     "output_type": "error",
     "traceback": [
      "\u001b[0;36m  Cell \u001b[0;32mIn[4], line 1\u001b[0;36m\u001b[0m\n\u001b[0;31m    sqlite3 test.db\u001b[0m\n\u001b[0m            ^\u001b[0m\n\u001b[0;31mSyntaxError\u001b[0m\u001b[0;31m:\u001b[0m invalid syntax\n"
     ]
    }
   ],
   "source": [
    "sqlite3 test.db"
   ]
  },
  {
   "cell_type": "code",
   "execution_count": 2,
   "id": "3c84a2e0-e8be-4063-9322-c7bdf6d7fc6a",
   "metadata": {},
   "outputs": [
    {
     "name": "stdout",
     "output_type": "stream",
     "text": [
      "\u001b[34mUntitled Folder\u001b[m\u001b[m    \u001b[34mapi\u001b[m\u001b[m                requirements_p.txt vercel.json\n",
      "Untitled.ipynb     requirements.txt   test.db\n"
     ]
    }
   ],
   "source": [
    "!ls\n"
   ]
  },
  {
   "cell_type": "code",
   "execution_count": 39,
   "id": "0b793dc0-ad06-4011-bb1a-5366cc50a251",
   "metadata": {},
   "outputs": [
    {
     "name": "stdout",
     "output_type": "stream",
     "text": [
      "(46, '松下電子材料蘇州工場新築工事二次選考入札\\u3000社内P０会議', 'https://teams.microsoft.com/l/meetup-join/19%3ameeting_ZjAyMWZkYzEtMDNmOS00OTY5LTk4NDgtNGUxMTg5YTZjMzdh%40thread.v2/0?context=%7b%22Tid%22%3a%22d053125f-5322-47cb-8dcc-8ad154eabb30%22%2c%22Oid%22%3a%2243c578b5-670f-4b08-853b-96e806e2b024%22%7d', 'None', 'None', '2024-07-15 05:00:00.000000', '2024-07-15 06:00:00.000000', None)\n",
      "(47, 'BKK PC Meeting ANALOG DEVICES - New Expansion Building (External Package)', 'https://teams.microsoft.com/l/meetup-join/19%3ameeting_NDc0Y2MxZDAtMjBlNi00ZGY0LTkyMzYtYTljMGQ2ZTE1ZTEz%40thread.v2/0?context=%7b%22Tid%22%3a%22d053125f-5322-47cb-8dcc-8ad154eabb30%22%2c%22Oid%22%3a%2239fd5688-835e-4140-bcab-d59440edda56%22%7d', None, None, '2024-07-12 06:00:00.000000', '2024-07-12 07:00:00.000000', None)\n",
      "(48, '【THA】BKK Infineon P1-MTG', 'https://teams.microsoft.com/l/meetup-join/19%3ameeting_MDdlYmQ1ZDgtOGY4OS00OGI3LWIzZmYtZDJiZTFlNDBmOTNj%40thread.v2/0?context=%7b%22Tid%22%3a%22d053125f-5322-47cb-8dcc-8ad154eabb30%22%2c%22Oid%22%3a%22872a16a7-0f77-41e0-ab7f-8fb75717a4ef%22%7d', None, None, '2024-07-12 01:00:00.000000', '2024-07-12 02:00:00.000000', None)\n",
      "(49, '[MLY] NET meeting for JOTUN ID works tender', 'https://teams.microsoft.com/l/meetup-join/19%3ameeting_OGI3ZTM2NjYtYTA3ZS00ZmU5LWE2MTUtZGQzZDI0MDgwNDI1%40thread.v2/0?context=%7b%22Tid%22%3a%22d053125f-5322-47cb-8dcc-8ad154eabb30%22%2c%22Oid%22%3a%2201ea1687-e100-455b-98bc-b3237e4ce9c4%22%7d', 'None', 'None', '2024-07-12 05:00:00.000000', '2024-07-12 06:00:00.000000', None)\n",
      "(50, 'JKT【Div P0】Fuji Foods New Factory', 'https://teams.microsoft.com/l/meetup-join/19%3ameeting_YTdlZmUwNGQtYWJkYi00NTViLTg5ZjUtMzk2N2IyMjc1MTlk%40thread.v2/0?context=%7b%22Tid%22%3a%22d053125f-5322-47cb-8dcc-8ad154eabb30%22%2c%22Oid%22%3a%2210c80759-b7b7-4a4d-9989-b104ccf61675%22%7d', None, None, '2024-07-12 09:00:00.000000', '2024-07-12 10:00:00.000000', None)\n",
      "(51, 'JKT Melia Bali//Division NET Meeting (1st submission)', 'None', 'None', 'None', '2024-07-15 08:00:00.000000', '2024-07-15 08:30:00.000000', None)\n",
      "(52, 'BKK P-C meeting ISUZU UNG new show room', 'https://teams.microsoft.com/l/meetup-join/19%3ameeting_ZGY1NzYyNmMtNGYzZS00N2M2LTk1YmMtNTlmOWE3ZDUwZDQw%40thread.v2/0?context=%7b%22Tid%22%3a%22d053125f-5322-47cb-8dcc-8ad154eabb30%22%2c%22Oid%22%3a%22ed12288e-854a-4cfa-85a0-d701170d3b0a%22%7d', None, None, '2024-07-11 02:00:00.000000', '2024-07-11 03:00:00.000000', None)\n",
      "(53, '全国見積TV会議（7月）', 'https://teams.microsoft.com/l/meetup-join/19%3ameeting_ZDY0NTc4NWMtNTNlYS00ODlhLTgxMTMtM2E2MGZhZTAzOWUy%40thread.v2/0?context=%7b%22Tid%22%3a%22b744ca93-8c8c-421b-b169-e0e16a98076a%22%2c%22Oid%22%3a%2263c56f32-631d-41d8-b648-5abec5a44634%22%7d', None, None, '2024-07-16 01:00:00.000000', '2024-07-16 02:00:00.000000', None)\n",
      "(54, 'Weekly meeting', 'https://teams.microsoft.com/l/meetup-join/19%3ameeting_MjE4NGQ4N2UtMGYwNi00NzY3LWI4YmMtZmM1NjYyNmQ2ODhm%40thread.v2/0?context=%7b%22Tid%22%3a%22d053125f-5322-47cb-8dcc-8ad154eabb30%22%2c%22Oid%22%3a%22b8cf7a3e-4928-43e9-ab35-53a81761dca2%22%7d', None, None, '2024-07-16 02:30:00.000000', '2024-07-16 03:00:00.000000', None)\n",
      "(55, 'Weekly meeting', 'https://teams.microsoft.com/l/meetup-join/19%3ameeting_MjE4NGQ4N2UtMGYwNi00NzY3LWI4YmMtZmM1NjYyNmQ2ODhm%40thread.v2/0?context=%7b%22Tid%22%3a%22d053125f-5322-47cb-8dcc-8ad154eabb30%22%2c%22Oid%22%3a%22b8cf7a3e-4928-43e9-ab35-53a81761dca2%22%7d', 'None', 'None', '2024-07-23 02:30:00.000000', '2024-07-23 03:00:00.000000', None)\n",
      "(56, 'TWN Taoyan Panasonic Net Meeting', 'https://teams.microsoft.com/l/meetup-join/19%3ameeting_NTJiMTc0MjktMGI5YS00ODViLTgwMTktODYzYjEwM2ZlNzRi%40thread.v2/0?context=%7b%22Tid%22%3a%22d053125f-5322-47cb-8dcc-8ad154eabb30%22%2c%22Oid%22%3a%2296b71a09-b612-434c-a8d5-1efebdaa3197%22%7d', None, None, '2024-07-16 06:30:00.000000', '2024-07-16 07:30:00.000000', None)\n",
      "(58, 'JKT Paramount Paint Line Extention Project-Feedback Meeting', 'https://teams.microsoft.com/l/meetup-join/19%3ameeting_ZTdlNTRiNmYtNjNhZS00Y2I1LWIyOWUtODZmNzllYTcwZDUz%40thread.v2/0?context=%7b%22Tid%22%3a%22d053125f-5322-47cb-8dcc-8ad154eabb30%22%2c%22Oid%22%3a%22ef6e0362-3e09-42fa-9589-cef10d194511%22%7d', 'None', 'None', '2024-07-12 07:00:00.000000', '2024-07-12 08:00:00.000000', None)\n",
      "(59, 'Weekly meeting', 'https://teams.microsoft.com/l/meetup-join/19%3ameeting_MTMxZDdmNWItNjljMy00ZDRmLTkxMDctMzE0YzBkMzM0NDU5%40thread.v2/0?context=%7b%22Tid%22%3a%22d053125f-5322-47cb-8dcc-8ad154eabb30%22%2c%22Oid%22%3a%22199adabe-5c12-475d-957a-e6b6cad08f82%22%7d', 'None', 'None', '2024-07-30 02:30:00.000000', '2024-07-30 03:00:00.000000', None)\n",
      "(60, 'JKT Microsoft DC JKT-11  Project Cost Meeting (PC会議)', 'https://teams.microsoft.com/l/meetup-join/19%3ameeting_M2E5OTFlNzgtMjQxNi00NzY5LTgwOTEtNGRlNGNlZWJjY2Y5%40thread.v2/0?context=%7b%22Tid%22%3a%22d053125f-5322-47cb-8dcc-8ad154eabb30%22%2c%22Oid%22%3a%22b8cf7a3e-4928-43e9-ab35-53a81761dca2%22%7d', None, None, '2024-07-17 07:00:00.000000', '2024-07-17 08:00:00.000000', None)\n",
      "(61, '中期経営計画＜2024-2026＞説明・対話会', 'https://teams.microsoft.com/l/meetup-join/19%3ameeting_NDIxNWUwYmItMTRmOC00MmNmLWJlNzAtYTMxMjkwMDQzMTYx%40thread.v2/0?context=%7b%22Tid%22%3a%22d053125f-5322-47cb-8dcc-8ad154eabb30%22%2c%22Oid%22%3a%22fac9496f-fcb8-4246-b0cc-6027cd8272f0%22%7d', 'None', 'None', '2024-07-18 05:30:00.000000', '2024-07-18 07:00:00.000000', None)\n",
      "(62, 'BGD IRIS Final Net: Revised Submission', 'https://teams.microsoft.com/l/meetup-join/19%3ameeting_MmNkYWQ1Y2ItZTYyMi00NTRhLWE3MDUtYjU3NTIyMzlhODBm%40thread.v2/0?context=%7b%22Tid%22%3a%22d053125f-5322-47cb-8dcc-8ad154eabb30%22%2c%22Oid%22%3a%22cea02cb8-db5e-4ab2-8369-f06492af9940%22%7d', 'None', 'None', '2024-07-25 03:00:00.000000', '2024-07-25 04:00:00.000000', None)\n",
      "(63, 'PR529 MNL -> KL', 'None', 'None', 'None', '2024-07-19 13:15:00.000000', '2024-07-18 16:00:00.000000', None)\n",
      "(64, 'MH704 KL -> MNL', None, None, None, '2024-07-24 02:10:00.000000', '2024-07-24 06:05:00.000000', None)\n",
      "(65, 'Moving to Kroma Tower', None, None, None, '2024-07-25 01:00:00.000000', '2024-07-25 02:00:00.000000', None)\n",
      "(66, 'Nippon Express Delivery', None, None, None, '2024-07-26 01:00:00.000000', '2024-07-26 02:00:00.000000', None)\n",
      "(67, 'P-C meeting for CST factory expansion project (Thailand)', 'https://teams.microsoft.com/l/meetup-join/19%3ameeting_YjFmYTE1NTYtNDkyMS00MjZmLTk4OWQtOWZkNWRkZDk4NWEx%40thread.v2/0?context=%7b%22Tid%22%3a%22d053125f-5322-47cb-8dcc-8ad154eabb30%22%2c%22Oid%22%3a%22ed12288e-854a-4cfa-85a0-d701170d3b0a%22%7d', None, None, '2024-07-30 06:00:00.000000', '2024-07-30 07:00:00.000000', None)\n",
      "(68, 'Interview', None, None, None, '2024-07-16 05:30:00.000000', '2024-07-16 06:30:00.000000', None)\n",
      "(69, 'JKT Seven Palms Hotel // P0 Division Meeting', 'https://teams.microsoft.com/l/meetup-join/19%3ameeting_NjFhMTRlOGUtN2ZlMC00M2I0LTg5YTEtMzg3MmJjYTQ5ZjI4%40thread.v2/0?context=%7b%22Tid%22%3a%22d053125f-5322-47cb-8dcc-8ad154eabb30%22%2c%22Oid%22%3a%22b6f762ed-d352-4230-a00b-7f0ea334c82f%22%7d', None, None, '2024-07-16 04:00:00.000000', '2024-07-16 05:00:00.000000', None)\n",
      "(70, 'Manila Marathon', None, None, None, '2024-10-05 16:00:00.000000', '2024-10-06 04:00:00.000000', None)\n",
      "(71, 'P0 meeting / ATEK BIO new factory project', 'https://teams.microsoft.com/l/meetup-join/19%3ameeting_YzA0NTZlZmMtM2I3My00MjQyLTljMDItNWZhY2RmNmUyMWNi%40thread.v2/0?context=%7b%22Tid%22%3a%22d053125f-5322-47cb-8dcc-8ad154eabb30%22%2c%22Oid%22%3a%22cd9e8b77-bfaf-4e45-9543-8ea3aa0d5fb6%22%7d', 'None', 'None', '2024-07-19 03:00:00.000000', '2024-07-19 04:00:00.000000', None)\n",
      "(72, 'ML Jotun Office & R&D Project P-S meeting', 'https://teams.microsoft.com/l/meetup-join/19%3ameeting_OTJhYzRjMjQtODAzZC00ZmFkLWI4M2QtZjkxNTVjNWNiNmNi%40thread.v2/0?context=%7b%22Tid%22%3a%22d053125f-5322-47cb-8dcc-8ad154eabb30%22%2c%22Oid%22%3a%22af4685fe-d445-46b0-bf56-efb1cdbe7cad%22%7d', 'None', 'None', '2024-07-24 07:00:00.000000', '2024-07-24 08:00:00.000000', None)\n",
      "(73, 'アリババクラウド杭州A棟＆B棟実装工事 不調反省会', '立即加入会议', None, None, '2024-07-19 00:40:00.000000', '2024-07-19 01:40:00.000000', None)\n",
      "(74, '国際DXセミナー「及川氏による効率的なプレゼンテーション作成」', 'https://teams.microsoft.com/l/meetup-join/19%3ameeting_MWY2YWZiZmYtOTUzNy00NTliLWEwODEtZWUxODY3MzgwNzM5%40thread.v2/0?context=%7b%22Tid%22%3a%22d053125f-5322-47cb-8dcc-8ad154eabb30%22%2c%22Oid%22%3a%22477b89b2-ad27-4c5b-8b96-a92839bc9ea8%22%7d', 'None', 'None', '2024-07-31 00:00:00.000000', '2024-07-31 01:00:00.000000', None)\n",
      "(75, '道解さんバンコク到着', 'None', 'None', 'None', '2025-03-14 08:20:00.000000', '2025-03-14 09:00:00.000000', None)\n",
      "(76, '道解さんバンコク出発', None, None, None, '2025-03-21 01:25:00.000000', '2025-03-21 02:00:00.000000', None)\n",
      "(77, 'Annual leave', 'None', 'None', 'None', '2024-07-21 16:00:00.000000', '2024-07-21 17:00:00.000000', None)\n",
      "(78, 'Annual leave', 'None', 'None', 'None', '2024-07-22 16:00:00.000000', '2024-07-22 17:00:00.000000', None)\n",
      "(79, 'Annual leave', 'None', 'None', 'None', '2024-07-23 16:00:00.000000', '2024-07-23 17:00:00.000000', None)\n",
      "(80, 'JKT P-C3 meeting for Lotte Chocopie 2nd Factory', 'https://teams.microsoft.com/l/meetup-join/19%3ameeting_NmRlZmYwMGItMjI1ZS00YTBhLTgxY2MtYTIyNDBiOGQ4MmI0%40thread.v2/0?context=%7b%22Tid%22%3a%22d053125f-5322-47cb-8dcc-8ad154eabb30%22%2c%22Oid%22%3a%22d5d81c51-d794-4e5b-a792-847e4daf309a%22%7d', None, None, '2024-07-26 07:00:00.000000', '2024-07-26 08:00:00.000000', None)\n",
      "(82, '【IND】Sango - NET Meeting', 'https://teams.microsoft.com/l/meetup-join/19%3ameeting_MDY1MjRjMWUtMDIyOS00YjY4LWIyY2MtMmRkYzgxMTgwNjdk%40thread.v2/0?context=%7b%22Tid%22%3a%22d053125f-5322-47cb-8dcc-8ad154eabb30%22%2c%22Oid%22%3a%22e7ea13bf-c25f-46d7-8865-e3d85fb6d469%22%7d', None, None, '2024-08-02 06:00:00.000000', '2024-08-02 07:00:00.000000', None)\n",
      "(83, 'SVN_HAN_Jtec_ Feedback meeting', 'https://teams.microsoft.com/l/meetup-join/19%3ameeting_NTA0NmYzYjQtZmE0Yy00N2NiLWIzNjUtZGYwM2FiODQ1ZTdh%40thread.v2/0?context=%7b%22Tid%22%3a%22d053125f-5322-47cb-8dcc-8ad154eabb30%22%2c%22Oid%22%3a%22c55bd611-cbdd-4350-a30d-1b296a9829f5%22%7d', 'None', 'None', '2024-07-30 02:00:00.000000', '2024-07-30 03:00:00.000000', None)\n",
      "(84, 'Weekly meeting', 'https://teams.microsoft.com/l/meetup-join/19%3ameeting_ZjBhY2Q4ZWUtMGY1Mi00Nzg5LTgzZTktYjEzNGEzZGY0YTA0%40thread.v2/0?context=%7b%22Tid%22%3a%22d053125f-5322-47cb-8dcc-8ad154eabb30%22%2c%22Oid%22%3a%22199adabe-5c12-475d-957a-e6b6cad08f82%22%7d', 'None', 'None', '2024-08-06 02:30:00.000000', '2024-08-06 03:00:00.000000', None)\n",
      "(85, 'Weekly meeting', 'https://teams.microsoft.com/l/meetup-join/19%3ameeting_ZjBhY2Q4ZWUtMGY1Mi00Nzg5LTgzZTktYjEzNGEzZGY0YTA0%40thread.v2/0?context=%7b%22Tid%22%3a%22d053125f-5322-47cb-8dcc-8ad154eabb30%22%2c%22Oid%22%3a%22199adabe-5c12-475d-957a-e6b6cad08f82%22%7d', 'None', 'None', '2024-08-13 02:30:00.000000', '2024-08-13 03:00:00.000000', None)\n",
      "(86, 'Weekly meeting', 'https://teams.microsoft.com/l/meetup-join/19%3ameeting_ZjBhY2Q4ZWUtMGY1Mi00Nzg5LTgzZTktYjEzNGEzZGY0YTA0%40thread.v2/0?context=%7b%22Tid%22%3a%22d053125f-5322-47cb-8dcc-8ad154eabb30%22%2c%22Oid%22%3a%22199adabe-5c12-475d-957a-e6b6cad08f82%22%7d', 'None', 'None', '2024-08-20 02:30:00.000000', '2024-08-20 03:00:00.000000', None)\n",
      "(87, 'Weekly meeting', 'https://teams.microsoft.com/l/meetup-join/19%3ameeting_ZjBhY2Q4ZWUtMGY1Mi00Nzg5LTgzZTktYjEzNGEzZGY0YTA0%40thread.v2/0?context=%7b%22Tid%22%3a%22d053125f-5322-47cb-8dcc-8ad154eabb30%22%2c%22Oid%22%3a%22199adabe-5c12-475d-957a-e6b6cad08f82%22%7d', 'None', 'None', '2024-08-27 02:30:00.000000', '2024-08-27 03:00:00.000000', None)\n",
      "(88, 'BKK P-C meeting for Advanex project', 'https://teams.microsoft.com/l/meetup-join/19%3ameeting_YWI4MGIwYWItNDZjOS00NTVmLTkyYWYtYjg0OTgzZmM5NzM5%40thread.v2/0?context=%7b%22Tid%22%3a%22d053125f-5322-47cb-8dcc-8ad154eabb30%22%2c%22Oid%22%3a%22ed12288e-854a-4cfa-85a0-d701170d3b0a%22%7d', None, None, '2024-07-30 07:00:00.000000', '2024-07-30 08:00:00.000000', None)\n",
      "(89, '国際支店 8月朝礼', 'https://teams.microsoft.com/l/meetup-join/19%3ameeting_MDY5YjlhMWQtNjM5NS00NmY3LTkxNjUtZjdhMzJhNGZmYTM2%40thread.v2/0?context=%7B%22Tid%22%3A%22d053125f-5322-47cb-8dcc-8ad154eabb30%22%2C%22Oid%22%3A%220db9ee03-a7f5-45ed-bd6b-e8a5e90daf3c%22%2C%22IsBroadcastMeeting%22%3Atrue%2C%22role%22%3A%22a%22%7D&btype=a&role=a', None, None, '2024-08-01 07:30:00.000000', '2024-08-01 08:00:00.000000', None)\n",
      "(90, 'SIN JAS Net meeting', 'https://teams.microsoft.com/l/meetup-join/19%3ameeting_YmJlZjM1YTUtN2NjYy00ZGQxLTliMGUtOWIxZWE2NmU2OWIz%40thread.v2/0?context=%7b%22Tid%22%3a%22d053125f-5322-47cb-8dcc-8ad154eabb30%22%2c%22Oid%22%3a%2226bb04e3-3bdd-4edb-bcd5-30b9714daedf%22%7d', 'None', 'None', '2024-07-29 03:30:00.000000', '2024-07-29 04:00:00.000000', None)\n",
      "(91, 'JKT JKT11 150 KV station P0 meeting', 'https://teams.microsoft.com/l/meetup-join/19%3ameeting_NTdlZjg4ZTItMzkzMS00NzYzLWI1NDYtYjdjZTI4YzExYzJj%40thread.v2/0?context=%7b%22Tid%22%3a%22d053125f-5322-47cb-8dcc-8ad154eabb30%22%2c%22Oid%22%3a%22b6f762ed-d352-4230-a00b-7f0ea334c82f%22%7d', None, None, '2024-07-29 08:00:00.000000', '2024-07-29 08:30:00.000000', None)\n",
      "(92, '【蘇州松下電子】NET検案内', 'https://teams.microsoft.com/l/meetup-join/19%3ameeting_NTNhNjJmNzEtY2Q5ZC00YWZmLTg3ZjYtN2U0ZmU1NGE4OTA0%40thread.v2/0?context=%7b%22Tid%22%3a%22d053125f-5322-47cb-8dcc-8ad154eabb30%22%2c%22Oid%22%3a%22c53fbdfe-b726-431a-885d-b19413f22745%22%7d', 'None', 'None', '2024-07-30 07:00:00.000000', '2024-07-30 08:00:00.000000', None)\n",
      "(93, 'JKT Nipro Indonesia Dialyzer Project P0 meeting', 'https://teams.microsoft.com/l/meetup-join/19%3ameeting_YTkxMDk1NDktOGUxMy00M2I0LWI5MjMtZTIxZWVjZDhjMDI0%40thread.v2/0?context=%7b%22Tid%22%3a%22d053125f-5322-47cb-8dcc-8ad154eabb30%22%2c%22Oid%22%3a%22bb5b764b-f29d-4b09-87bd-660e343dd920%22%7d', None, None, '2024-07-30 03:30:00.000000', '2024-07-30 05:30:00.000000', None)\n",
      "(94, 'HK 24-059 MTR & 24-056 NTR P0 meeting', 'https://teams.microsoft.com/l/meetup-join/19%3ameeting_YzQzNmFjZjItMTIwMi00ZjZkLTgyMmItNDNmMWIwY2Y4NDVi%40thread.v2/0?context=%7b%22Tid%22%3a%22d053125f-5322-47cb-8dcc-8ad154eabb30%22%2c%22Oid%22%3a%22b2010f9a-f82b-44b8-afa8-8a16f6cf3716%22%7d', 'None', 'None', '2024-08-05 03:00:00.000000', '2024-08-05 04:00:00.000000', None)\n",
      "(95, 'HK Net meeting for \"(24-053) MTR - Construction of New Stabling Track with Inspection Pit\" ', 'https://teams.microsoft.com/l/meetup-join/19%3ameeting_M2Q3NzAyYTctYzYxZS00YjFiLWEyZmEtMjJhYWIzZjM3YzE2%40thread.v2/0?context=%7b%22Tid%22%3a%22d053125f-5322-47cb-8dcc-8ad154eabb30%22%2c%22Oid%22%3a%22b2010f9a-f82b-44b8-afa8-8a16f6cf3716%22%7d', None, None, '2024-08-08 03:00:00.000000', '2024-08-08 04:00:00.000000', None)\n",
      "(97, 'Mama flight MNL to KUL (MH705)', 'None', 'None', 'None', '2024-08-20 07:05:00.000000', '2024-08-20 11:00:00.000000', None)\n",
      "(98, 'BGD Jatra DC estimation support meeting', 'https://teams.microsoft.com/l/meetup-join/19%3ameeting_OGFhODQwMzEtYzkyYS00NTQ4LWIwNjItNjcwNTlmZjQyMmM3%40thread.v2/0?context=%7b%22Tid%22%3a%22d053125f-5322-47cb-8dcc-8ad154eabb30%22%2c%22Oid%22%3a%22fa559324-b9b0-454c-aa41-9426346e3199%22%7d', None, None, '2024-07-30 08:00:00.000000', '2024-07-30 09:00:00.000000', None)\n",
      "(99, 'VNM P0 meeting / Nitto Denko Ph5 Finishing work', 'https://teams.microsoft.com/l/meetup-join/19%3ameeting_NGYxNmU2NGItZTNjOC00OGEwLWE3ZGMtN2VhMmFlNWQ1Y2Yw%40thread.v2/0?context=%7b%22Tid%22%3a%22d053125f-5322-47cb-8dcc-8ad154eabb30%22%2c%22Oid%22%3a%2274c984d1-e676-4ca9-aebb-d5b043e8996e%22%7d', None, None, '2024-07-31 03:00:00.000000', '2024-07-31 04:00:00.000000', None)\n",
      "(100, '1st choice of medical check up', 'None', 'None', 'None', '2024-11-24 23:30:00.000000', '2024-11-25 09:00:00.000000', None)\n",
      "(101, '2nd choice of medical check up', 'None', 'None', 'None', '2024-11-17 23:30:00.000000', '2024-11-18 09:00:00.000000', None)\n",
      "(103, 'NH in Philippines (National Heroes Day)', None, None, None, '2024-08-25 16:00:00.000000', '2024-08-25 16:00:00.000000', None)\n",
      "(104, 'NH in Philippines (\\t Ninoy Aquino Day)', 'None', 'None', 'None', '2024-08-22 16:00:00.000000', '2024-08-22 16:00:00.000000', None)\n",
      "(106, 'BGD Jatra DC weekly meeting with PPD', 'https://teams.microsoft.com/l/meetup-join/19%3ameeting_NzE1YmZmZDctZThiYS00Y2EzLThkMjUtZWQ1MjUzY2U4NGFh%40thread.v2/0?context=%7b%22Tid%22%3a%22d053125f-5322-47cb-8dcc-8ad154eabb30%22%2c%22Oid%22%3a%2223c56042-30b6-420a-a3d0-5b99359911b1%22%7d', None, None, '2024-07-31 08:00:00.000000', '2024-07-31 09:00:00.000000', None)\n",
      "(107, 'BGD Jatra DC weekly meeting with PPD', 'https://teams.microsoft.com/l/meetup-join/19%3ameeting_ZTI4NTM3ZjUtZWU2OC00MDU2LTk4NjUtNWUwMTY4MmZlNjQy%40thread.v2/0?context=%7b%22Tid%22%3a%22d053125f-5322-47cb-8dcc-8ad154eabb30%22%2c%22Oid%22%3a%22c45907e3-04e0-41a1-accb-6b4654d62673%22%7d', 'None', 'None', '2024-08-07 07:00:00.000000', '2024-08-07 08:00:00.000000', None)\n",
      "(108, 'BGD Jatra DC weekly meeting with PPD', 'https://teams.microsoft.com/l/meetup-join/19%3ameeting_NzE1YmZmZDctZThiYS00Y2EzLThkMjUtZWQ1MjUzY2U4NGFh%40thread.v2/0?context=%7b%22Tid%22%3a%22d053125f-5322-47cb-8dcc-8ad154eabb30%22%2c%22Oid%22%3a%2223c56042-30b6-420a-a3d0-5b99359911b1%22%7d', 'None', 'None', '2024-08-21 07:00:00.000000', '2024-08-21 08:00:00.000000', None)\n",
      "(109, 'BGD Jatro DC P0 meeting', 'https://teams.microsoft.com/l/meetup-join/19%3ameeting_MGM4NDA0ZDYtNzQzMC00NGM0LTk0OGUtNGExYjVjMDBjNjM0%40thread.v2/0?context=%7b%22Tid%22%3a%22d053125f-5322-47cb-8dcc-8ad154eabb30%22%2c%22Oid%22%3a%2257993e83-90c8-4ff5-80a0-1cac75b0159f%22%7d', 'None', 'None', '2024-08-07 07:40:00.000000', '2024-08-07 08:30:00.000000', None)\n",
      "(110, 'Mama has dinner separately', None, None, None, '2024-08-05 16:00:00.000000', '2024-08-05 16:00:00.000000', None)\n",
      "(111, 'Interview', 'None', 'None', 'None', '2024-08-05 05:30:00.000000', '2024-08-05 07:00:00.000000', None)\n",
      "(113, 'MOTOYUKI MICHIBA', None, None, None, '2024-08-02 16:00:00.000000', '2024-08-02 16:00:00.000000', None)\n",
      "(114, 'Adobe Stock', None, None, None, '2024-08-04 05:00:00.000000', '2024-08-04 06:00:00.000000', None)\n",
      "(115, 'MNL Taiheiyo Cement Kick off meeting', 'Join the meeting now', 'None', 'None', '2024-08-08 06:00:00.000000', '2024-08-08 07:00:00.000000', None)\n",
      "(116, 'IND NIPRO Indonesia Expansion & Renovation Net meeting', 'https://teams.microsoft.com/l/meetup-join/19%3ameeting_MTdiNGU1MTAtNGU0OS00ZTk4LWJmYWYtMjgxZjkyMmQwNTFk%40thread.v2/0?context=%7b%22Tid%22%3a%22d053125f-5322-47cb-8dcc-8ad154eabb30%22%2c%22Oid%22%3a%22bb5b764b-f29d-4b09-87bd-660e343dd920%22%7d', 'None', 'None', '2024-08-20 03:30:00.000000', '2024-08-20 04:30:00.000000', None)\n",
      "(118, 'Interview', None, None, None, '2024-08-06 05:30:00.000000', '2024-08-06 06:30:00.000000', None)\n",
      "(119, 'JKT JKT11 Substation Net meeting', 'https://teams.microsoft.com/l/meetup-join/19%3ameeting_YTA4ZDk1ZGYtMzE3Ny00MTExLTllZDAtOGI5Njc4MDNiY2M0%40thread.v2/0?context=%7b%22Tid%22%3a%22d053125f-5322-47cb-8dcc-8ad154eabb30%22%2c%22Oid%22%3a%22e35d2b83-6939-4fab-9a3e-a23ca1da30d2%22%7d', None, None, '2024-08-08 08:30:00.000000', '2024-08-08 09:30:00.000000', None)\n",
      "(120, 'BKK Analog finishing & MEP Net meeting', 'https://teams.microsoft.com/l/meetup-join/19%3ameeting_OGIxZjNkNWYtZGUzOS00MTM4LWIzMDQtM2FkNDg3Yjg2OTlm%40thread.v2/0?context=%7b%22Tid%22%3a%22d053125f-5322-47cb-8dcc-8ad154eabb30%22%2c%22Oid%22%3a%22f5b8c5bf-3d47-4a17-a4b7-7240d50af4f9%22%7d', None, None, '2024-08-07 08:00:00.000000', '2024-08-07 09:00:00.000000', None)\n",
      "(121, '全国見積TV会議（８月）', 'https://teams.microsoft.com/l/meetup-join/19%3ameeting_NjNjZjhkNzUtMTQ3ZC00MGYwLTkyNDUtMGE5ZjhjZWM0ZDI0%40thread.v2/0?context=%7b%22Tid%22%3a%22b744ca93-8c8c-421b-b169-e0e16a98076a%22%2c%22Oid%22%3a%2263c56f32-631d-41d8-b648-5abec5a44634%22%7d', None, None, '2024-08-20 01:00:00.000000', '2024-08-20 02:00:00.000000', None)\n",
      "(122, 'BGD Jatra DC weekly meeting with PPD', 'https://teams.microsoft.com/l/meetup-join/19%3ameeting_NzE1YmZmZDctZThiYS00Y2EzLThkMjUtZWQ1MjUzY2U4NGFh%40thread.v2/0?context=%7b%22Tid%22%3a%22d053125f-5322-47cb-8dcc-8ad154eabb30%22%2c%22Oid%22%3a%2223c56042-30b6-420a-a3d0-5b99359911b1%22%7d', 'None', 'None', '2024-08-28 07:00:00.000000', '2024-08-28 08:00:00.000000', None)\n",
      "(123, 'JKT\\u3000ダルマイス癌病院FS', 'https://teams.microsoft.com/l/meetup-join/19%3ameeting_ZGEwNTVhNzQtYTJjYi00MjQyLTgxZWUtNTIzZWMwNjllNmEy%40thread.v2/0?context=%7b%22Tid%22%3a%22d053125f-5322-47cb-8dcc-8ad154eabb30%22%2c%22Oid%22%3a%2223c56042-30b6-420a-a3d0-5b99359911b1%22%7d', None, None, '2024-08-08 00:30:00.000000', '2024-08-08 01:30:00.000000', None)\n",
      "(124, '[VN] NET meeting / ATEK BIO new factory Ph1', 'https://teams.microsoft.com/l/meetup-join/19%3ameeting_N2U4NDRlZGUtMWU4Mi00MWQ2LTk0NjEtZWM4ZmE5YTM0ZjM5%40thread.v2/0?context=%7b%22Tid%22%3a%22d053125f-5322-47cb-8dcc-8ad154eabb30%22%2c%22Oid%22%3a%22cd9e8b77-bfaf-4e45-9543-8ea3aa0d5fb6%22%7d', 'None', 'None', '2024-08-08 03:30:00.000000', '2024-08-08 04:00:00.000000', None)\n",
      "(125, 'NH in SIN (National day)', None, None, None, '2024-08-08 16:00:00.000000', '2024-08-08 16:00:00.000000', None)\n",
      "(126, 'Mr. Usui san flight SIN to NRT', None, None, None, '2024-08-08 22:15:00.000000', '2024-08-09 06:30:00.000000', None)\n",
      "(127, 'Mr. Usui san Flight HND to Sin', None, None, None, '2024-08-18 02:55:00.000000', '2024-08-18 09:15:00.000000', None)\n",
      "(128, 'Mr. Usui san Flight SIN to MNL', None, None, None, '2024-08-23 11:25:00.000000', '2024-08-22 18:30:00.000000', None)\n",
      "(129, 'Mr. Usui san Flight MNL to SIN', None, None, None, '2024-08-30 23:40:00.000000', '2024-08-31 03:20:00.000000', None)\n",
      "(130, 'Go to Japanese association clinic', None, None, None, '2024-08-09 06:00:00.000000', '2024-08-09 08:00:00.000000', None)\n",
      "(131, 'P0 Meeting & Net Meeting for \"(24-063) MTR - Replacement of Tunnel Ventilation Fans and Dampers at YMT and CAB\"', 'https://teams.microsoft.com/l/meetup-join/19%3ameeting_ZGUzODhjMTEtZWM0MS00MGMxLWEyNzUtZTliYzczYjFhYTY0%40thread.v2/0?context=%7b%22Tid%22%3a%22d053125f-5322-47cb-8dcc-8ad154eabb30%22%2c%22Oid%22%3a%22b2010f9a-f82b-44b8-afa8-8a16f6cf3716%22%7d', None, None, '2024-08-19 07:00:00.000000', '2024-08-19 08:00:00.000000', None)\n",
      "(132, 'JKT Net meeting Melia Bali Hotel Renovation', 'https://teams.microsoft.com/l/meetup-join/19%3ameeting_MGMxZTQzNDYtNWZkMy00MDUxLWJjYmYtZmQ5ZTJjYzdhMzM0%40thread.v2/0?context=%7b%22Tid%22%3a%22d053125f-5322-47cb-8dcc-8ad154eabb30%22%2c%22Oid%22%3a%22b6f762ed-d352-4230-a00b-7f0ea334c82f%22%7d', None, None, '2024-08-15 07:00:00.000000', '2024-08-15 08:00:00.000000', None)\n",
      "(133, 'Go to immigration office', None, None, None, '2024-08-14 02:30:00.000000', '2024-08-13 16:00:00.000000', None)\n",
      "(134, '[MYS] SICK Sensor - P0 meeting', 'https://teams.microsoft.com/l/meetup-join/19%3ameeting_ZGU4NDliZjEtZTdhMS00M2RhLTkxMmUtMzkzYzdlYTUxZGRh%40thread.v2/0?context=%7b%22Tid%22%3a%22d053125f-5322-47cb-8dcc-8ad154eabb30%22%2c%22Oid%22%3a%2201ea1687-e100-455b-98bc-b3237e4ce9c4%22%7d', None, None, '2024-08-20 05:00:00.000000', '2024-08-20 06:00:00.000000', None)\n",
      "(135, 'test', None, None, None, '2024-09-17 16:00:00.000000', '2024-09-17 16:00:00.000000', None)\n",
      "[(46, '松下電子材料蘇州工場新築工事二次選考入札\\u3000社内P０会議', 'https://teams.microsoft.com/l/meetup-join/19%3ameeting_ZjAyMWZkYzEtMDNmOS00OTY5LTk4NDgtNGUxMTg5YTZjMzdh%40thread.v2/0?context=%7b%22Tid%22%3a%22d053125f-5322-47cb-8dcc-8ad154eabb30%22%2c%22Oid%22%3a%2243c578b5-670f-4b08-853b-96e806e2b024%22%7d', 'None', 'None', '2024-07-15 05:00:00.000000', '2024-07-15 06:00:00.000000', None), (47, 'BKK PC Meeting ANALOG DEVICES - New Expansion Building (External Package)', 'https://teams.microsoft.com/l/meetup-join/19%3ameeting_NDc0Y2MxZDAtMjBlNi00ZGY0LTkyMzYtYTljMGQ2ZTE1ZTEz%40thread.v2/0?context=%7b%22Tid%22%3a%22d053125f-5322-47cb-8dcc-8ad154eabb30%22%2c%22Oid%22%3a%2239fd5688-835e-4140-bcab-d59440edda56%22%7d', None, None, '2024-07-12 06:00:00.000000', '2024-07-12 07:00:00.000000', None), (48, '【THA】BKK Infineon P1-MTG', 'https://teams.microsoft.com/l/meetup-join/19%3ameeting_MDdlYmQ1ZDgtOGY4OS00OGI3LWIzZmYtZDJiZTFlNDBmOTNj%40thread.v2/0?context=%7b%22Tid%22%3a%22d053125f-5322-47cb-8dcc-8ad154eabb30%22%2c%22Oid%22%3a%22872a16a7-0f77-41e0-ab7f-8fb75717a4ef%22%7d', None, None, '2024-07-12 01:00:00.000000', '2024-07-12 02:00:00.000000', None), (49, '[MLY] NET meeting for JOTUN ID works tender', 'https://teams.microsoft.com/l/meetup-join/19%3ameeting_OGI3ZTM2NjYtYTA3ZS00ZmU5LWE2MTUtZGQzZDI0MDgwNDI1%40thread.v2/0?context=%7b%22Tid%22%3a%22d053125f-5322-47cb-8dcc-8ad154eabb30%22%2c%22Oid%22%3a%2201ea1687-e100-455b-98bc-b3237e4ce9c4%22%7d', 'None', 'None', '2024-07-12 05:00:00.000000', '2024-07-12 06:00:00.000000', None), (50, 'JKT【Div P0】Fuji Foods New Factory', 'https://teams.microsoft.com/l/meetup-join/19%3ameeting_YTdlZmUwNGQtYWJkYi00NTViLTg5ZjUtMzk2N2IyMjc1MTlk%40thread.v2/0?context=%7b%22Tid%22%3a%22d053125f-5322-47cb-8dcc-8ad154eabb30%22%2c%22Oid%22%3a%2210c80759-b7b7-4a4d-9989-b104ccf61675%22%7d', None, None, '2024-07-12 09:00:00.000000', '2024-07-12 10:00:00.000000', None), (51, 'JKT Melia Bali//Division NET Meeting (1st submission)', 'None', 'None', 'None', '2024-07-15 08:00:00.000000', '2024-07-15 08:30:00.000000', None), (52, 'BKK P-C meeting ISUZU UNG new show room', 'https://teams.microsoft.com/l/meetup-join/19%3ameeting_ZGY1NzYyNmMtNGYzZS00N2M2LTk1YmMtNTlmOWE3ZDUwZDQw%40thread.v2/0?context=%7b%22Tid%22%3a%22d053125f-5322-47cb-8dcc-8ad154eabb30%22%2c%22Oid%22%3a%22ed12288e-854a-4cfa-85a0-d701170d3b0a%22%7d', None, None, '2024-07-11 02:00:00.000000', '2024-07-11 03:00:00.000000', None), (53, '全国見積TV会議（7月）', 'https://teams.microsoft.com/l/meetup-join/19%3ameeting_ZDY0NTc4NWMtNTNlYS00ODlhLTgxMTMtM2E2MGZhZTAzOWUy%40thread.v2/0?context=%7b%22Tid%22%3a%22b744ca93-8c8c-421b-b169-e0e16a98076a%22%2c%22Oid%22%3a%2263c56f32-631d-41d8-b648-5abec5a44634%22%7d', None, None, '2024-07-16 01:00:00.000000', '2024-07-16 02:00:00.000000', None), (54, 'Weekly meeting', 'https://teams.microsoft.com/l/meetup-join/19%3ameeting_MjE4NGQ4N2UtMGYwNi00NzY3LWI4YmMtZmM1NjYyNmQ2ODhm%40thread.v2/0?context=%7b%22Tid%22%3a%22d053125f-5322-47cb-8dcc-8ad154eabb30%22%2c%22Oid%22%3a%22b8cf7a3e-4928-43e9-ab35-53a81761dca2%22%7d', None, None, '2024-07-16 02:30:00.000000', '2024-07-16 03:00:00.000000', None), (55, 'Weekly meeting', 'https://teams.microsoft.com/l/meetup-join/19%3ameeting_MjE4NGQ4N2UtMGYwNi00NzY3LWI4YmMtZmM1NjYyNmQ2ODhm%40thread.v2/0?context=%7b%22Tid%22%3a%22d053125f-5322-47cb-8dcc-8ad154eabb30%22%2c%22Oid%22%3a%22b8cf7a3e-4928-43e9-ab35-53a81761dca2%22%7d', 'None', 'None', '2024-07-23 02:30:00.000000', '2024-07-23 03:00:00.000000', None), (56, 'TWN Taoyan Panasonic Net Meeting', 'https://teams.microsoft.com/l/meetup-join/19%3ameeting_NTJiMTc0MjktMGI5YS00ODViLTgwMTktODYzYjEwM2ZlNzRi%40thread.v2/0?context=%7b%22Tid%22%3a%22d053125f-5322-47cb-8dcc-8ad154eabb30%22%2c%22Oid%22%3a%2296b71a09-b612-434c-a8d5-1efebdaa3197%22%7d', None, None, '2024-07-16 06:30:00.000000', '2024-07-16 07:30:00.000000', None), (58, 'JKT Paramount Paint Line Extention Project-Feedback Meeting', 'https://teams.microsoft.com/l/meetup-join/19%3ameeting_ZTdlNTRiNmYtNjNhZS00Y2I1LWIyOWUtODZmNzllYTcwZDUz%40thread.v2/0?context=%7b%22Tid%22%3a%22d053125f-5322-47cb-8dcc-8ad154eabb30%22%2c%22Oid%22%3a%22ef6e0362-3e09-42fa-9589-cef10d194511%22%7d', 'None', 'None', '2024-07-12 07:00:00.000000', '2024-07-12 08:00:00.000000', None), (59, 'Weekly meeting', 'https://teams.microsoft.com/l/meetup-join/19%3ameeting_MTMxZDdmNWItNjljMy00ZDRmLTkxMDctMzE0YzBkMzM0NDU5%40thread.v2/0?context=%7b%22Tid%22%3a%22d053125f-5322-47cb-8dcc-8ad154eabb30%22%2c%22Oid%22%3a%22199adabe-5c12-475d-957a-e6b6cad08f82%22%7d', 'None', 'None', '2024-07-30 02:30:00.000000', '2024-07-30 03:00:00.000000', None), (60, 'JKT Microsoft DC JKT-11  Project Cost Meeting (PC会議)', 'https://teams.microsoft.com/l/meetup-join/19%3ameeting_M2E5OTFlNzgtMjQxNi00NzY5LTgwOTEtNGRlNGNlZWJjY2Y5%40thread.v2/0?context=%7b%22Tid%22%3a%22d053125f-5322-47cb-8dcc-8ad154eabb30%22%2c%22Oid%22%3a%22b8cf7a3e-4928-43e9-ab35-53a81761dca2%22%7d', None, None, '2024-07-17 07:00:00.000000', '2024-07-17 08:00:00.000000', None), (61, '中期経営計画＜2024-2026＞説明・対話会', 'https://teams.microsoft.com/l/meetup-join/19%3ameeting_NDIxNWUwYmItMTRmOC00MmNmLWJlNzAtYTMxMjkwMDQzMTYx%40thread.v2/0?context=%7b%22Tid%22%3a%22d053125f-5322-47cb-8dcc-8ad154eabb30%22%2c%22Oid%22%3a%22fac9496f-fcb8-4246-b0cc-6027cd8272f0%22%7d', 'None', 'None', '2024-07-18 05:30:00.000000', '2024-07-18 07:00:00.000000', None), (62, 'BGD IRIS Final Net: Revised Submission', 'https://teams.microsoft.com/l/meetup-join/19%3ameeting_MmNkYWQ1Y2ItZTYyMi00NTRhLWE3MDUtYjU3NTIyMzlhODBm%40thread.v2/0?context=%7b%22Tid%22%3a%22d053125f-5322-47cb-8dcc-8ad154eabb30%22%2c%22Oid%22%3a%22cea02cb8-db5e-4ab2-8369-f06492af9940%22%7d', 'None', 'None', '2024-07-25 03:00:00.000000', '2024-07-25 04:00:00.000000', None), (63, 'PR529 MNL -> KL', 'None', 'None', 'None', '2024-07-19 13:15:00.000000', '2024-07-18 16:00:00.000000', None), (64, 'MH704 KL -> MNL', None, None, None, '2024-07-24 02:10:00.000000', '2024-07-24 06:05:00.000000', None), (65, 'Moving to Kroma Tower', None, None, None, '2024-07-25 01:00:00.000000', '2024-07-25 02:00:00.000000', None), (66, 'Nippon Express Delivery', None, None, None, '2024-07-26 01:00:00.000000', '2024-07-26 02:00:00.000000', None), (67, 'P-C meeting for CST factory expansion project (Thailand)', 'https://teams.microsoft.com/l/meetup-join/19%3ameeting_YjFmYTE1NTYtNDkyMS00MjZmLTk4OWQtOWZkNWRkZDk4NWEx%40thread.v2/0?context=%7b%22Tid%22%3a%22d053125f-5322-47cb-8dcc-8ad154eabb30%22%2c%22Oid%22%3a%22ed12288e-854a-4cfa-85a0-d701170d3b0a%22%7d', None, None, '2024-07-30 06:00:00.000000', '2024-07-30 07:00:00.000000', None), (68, 'Interview', None, None, None, '2024-07-16 05:30:00.000000', '2024-07-16 06:30:00.000000', None), (69, 'JKT Seven Palms Hotel // P0 Division Meeting', 'https://teams.microsoft.com/l/meetup-join/19%3ameeting_NjFhMTRlOGUtN2ZlMC00M2I0LTg5YTEtMzg3MmJjYTQ5ZjI4%40thread.v2/0?context=%7b%22Tid%22%3a%22d053125f-5322-47cb-8dcc-8ad154eabb30%22%2c%22Oid%22%3a%22b6f762ed-d352-4230-a00b-7f0ea334c82f%22%7d', None, None, '2024-07-16 04:00:00.000000', '2024-07-16 05:00:00.000000', None), (70, 'Manila Marathon', None, None, None, '2024-10-05 16:00:00.000000', '2024-10-06 04:00:00.000000', None), (71, 'P0 meeting / ATEK BIO new factory project', 'https://teams.microsoft.com/l/meetup-join/19%3ameeting_YzA0NTZlZmMtM2I3My00MjQyLTljMDItNWZhY2RmNmUyMWNi%40thread.v2/0?context=%7b%22Tid%22%3a%22d053125f-5322-47cb-8dcc-8ad154eabb30%22%2c%22Oid%22%3a%22cd9e8b77-bfaf-4e45-9543-8ea3aa0d5fb6%22%7d', 'None', 'None', '2024-07-19 03:00:00.000000', '2024-07-19 04:00:00.000000', None), (72, 'ML Jotun Office & R&D Project P-S meeting', 'https://teams.microsoft.com/l/meetup-join/19%3ameeting_OTJhYzRjMjQtODAzZC00ZmFkLWI4M2QtZjkxNTVjNWNiNmNi%40thread.v2/0?context=%7b%22Tid%22%3a%22d053125f-5322-47cb-8dcc-8ad154eabb30%22%2c%22Oid%22%3a%22af4685fe-d445-46b0-bf56-efb1cdbe7cad%22%7d', 'None', 'None', '2024-07-24 07:00:00.000000', '2024-07-24 08:00:00.000000', None), (73, 'アリババクラウド杭州A棟＆B棟実装工事 不調反省会', '立即加入会议', None, None, '2024-07-19 00:40:00.000000', '2024-07-19 01:40:00.000000', None), (74, '国際DXセミナー「及川氏による効率的なプレゼンテーション作成」', 'https://teams.microsoft.com/l/meetup-join/19%3ameeting_MWY2YWZiZmYtOTUzNy00NTliLWEwODEtZWUxODY3MzgwNzM5%40thread.v2/0?context=%7b%22Tid%22%3a%22d053125f-5322-47cb-8dcc-8ad154eabb30%22%2c%22Oid%22%3a%22477b89b2-ad27-4c5b-8b96-a92839bc9ea8%22%7d', 'None', 'None', '2024-07-31 00:00:00.000000', '2024-07-31 01:00:00.000000', None), (75, '道解さんバンコク到着', 'None', 'None', 'None', '2025-03-14 08:20:00.000000', '2025-03-14 09:00:00.000000', None), (76, '道解さんバンコク出発', None, None, None, '2025-03-21 01:25:00.000000', '2025-03-21 02:00:00.000000', None), (77, 'Annual leave', 'None', 'None', 'None', '2024-07-21 16:00:00.000000', '2024-07-21 17:00:00.000000', None), (78, 'Annual leave', 'None', 'None', 'None', '2024-07-22 16:00:00.000000', '2024-07-22 17:00:00.000000', None), (79, 'Annual leave', 'None', 'None', 'None', '2024-07-23 16:00:00.000000', '2024-07-23 17:00:00.000000', None), (80, 'JKT P-C3 meeting for Lotte Chocopie 2nd Factory', 'https://teams.microsoft.com/l/meetup-join/19%3ameeting_NmRlZmYwMGItMjI1ZS00YTBhLTgxY2MtYTIyNDBiOGQ4MmI0%40thread.v2/0?context=%7b%22Tid%22%3a%22d053125f-5322-47cb-8dcc-8ad154eabb30%22%2c%22Oid%22%3a%22d5d81c51-d794-4e5b-a792-847e4daf309a%22%7d', None, None, '2024-07-26 07:00:00.000000', '2024-07-26 08:00:00.000000', None), (82, '【IND】Sango - NET Meeting', 'https://teams.microsoft.com/l/meetup-join/19%3ameeting_MDY1MjRjMWUtMDIyOS00YjY4LWIyY2MtMmRkYzgxMTgwNjdk%40thread.v2/0?context=%7b%22Tid%22%3a%22d053125f-5322-47cb-8dcc-8ad154eabb30%22%2c%22Oid%22%3a%22e7ea13bf-c25f-46d7-8865-e3d85fb6d469%22%7d', None, None, '2024-08-02 06:00:00.000000', '2024-08-02 07:00:00.000000', None), (83, 'SVN_HAN_Jtec_ Feedback meeting', 'https://teams.microsoft.com/l/meetup-join/19%3ameeting_NTA0NmYzYjQtZmE0Yy00N2NiLWIzNjUtZGYwM2FiODQ1ZTdh%40thread.v2/0?context=%7b%22Tid%22%3a%22d053125f-5322-47cb-8dcc-8ad154eabb30%22%2c%22Oid%22%3a%22c55bd611-cbdd-4350-a30d-1b296a9829f5%22%7d', 'None', 'None', '2024-07-30 02:00:00.000000', '2024-07-30 03:00:00.000000', None), (84, 'Weekly meeting', 'https://teams.microsoft.com/l/meetup-join/19%3ameeting_ZjBhY2Q4ZWUtMGY1Mi00Nzg5LTgzZTktYjEzNGEzZGY0YTA0%40thread.v2/0?context=%7b%22Tid%22%3a%22d053125f-5322-47cb-8dcc-8ad154eabb30%22%2c%22Oid%22%3a%22199adabe-5c12-475d-957a-e6b6cad08f82%22%7d', 'None', 'None', '2024-08-06 02:30:00.000000', '2024-08-06 03:00:00.000000', None), (85, 'Weekly meeting', 'https://teams.microsoft.com/l/meetup-join/19%3ameeting_ZjBhY2Q4ZWUtMGY1Mi00Nzg5LTgzZTktYjEzNGEzZGY0YTA0%40thread.v2/0?context=%7b%22Tid%22%3a%22d053125f-5322-47cb-8dcc-8ad154eabb30%22%2c%22Oid%22%3a%22199adabe-5c12-475d-957a-e6b6cad08f82%22%7d', 'None', 'None', '2024-08-13 02:30:00.000000', '2024-08-13 03:00:00.000000', None), (86, 'Weekly meeting', 'https://teams.microsoft.com/l/meetup-join/19%3ameeting_ZjBhY2Q4ZWUtMGY1Mi00Nzg5LTgzZTktYjEzNGEzZGY0YTA0%40thread.v2/0?context=%7b%22Tid%22%3a%22d053125f-5322-47cb-8dcc-8ad154eabb30%22%2c%22Oid%22%3a%22199adabe-5c12-475d-957a-e6b6cad08f82%22%7d', 'None', 'None', '2024-08-20 02:30:00.000000', '2024-08-20 03:00:00.000000', None), (87, 'Weekly meeting', 'https://teams.microsoft.com/l/meetup-join/19%3ameeting_ZjBhY2Q4ZWUtMGY1Mi00Nzg5LTgzZTktYjEzNGEzZGY0YTA0%40thread.v2/0?context=%7b%22Tid%22%3a%22d053125f-5322-47cb-8dcc-8ad154eabb30%22%2c%22Oid%22%3a%22199adabe-5c12-475d-957a-e6b6cad08f82%22%7d', 'None', 'None', '2024-08-27 02:30:00.000000', '2024-08-27 03:00:00.000000', None), (88, 'BKK P-C meeting for Advanex project', 'https://teams.microsoft.com/l/meetup-join/19%3ameeting_YWI4MGIwYWItNDZjOS00NTVmLTkyYWYtYjg0OTgzZmM5NzM5%40thread.v2/0?context=%7b%22Tid%22%3a%22d053125f-5322-47cb-8dcc-8ad154eabb30%22%2c%22Oid%22%3a%22ed12288e-854a-4cfa-85a0-d701170d3b0a%22%7d', None, None, '2024-07-30 07:00:00.000000', '2024-07-30 08:00:00.000000', None), (89, '国際支店 8月朝礼', 'https://teams.microsoft.com/l/meetup-join/19%3ameeting_MDY5YjlhMWQtNjM5NS00NmY3LTkxNjUtZjdhMzJhNGZmYTM2%40thread.v2/0?context=%7B%22Tid%22%3A%22d053125f-5322-47cb-8dcc-8ad154eabb30%22%2C%22Oid%22%3A%220db9ee03-a7f5-45ed-bd6b-e8a5e90daf3c%22%2C%22IsBroadcastMeeting%22%3Atrue%2C%22role%22%3A%22a%22%7D&btype=a&role=a', None, None, '2024-08-01 07:30:00.000000', '2024-08-01 08:00:00.000000', None), (90, 'SIN JAS Net meeting', 'https://teams.microsoft.com/l/meetup-join/19%3ameeting_YmJlZjM1YTUtN2NjYy00ZGQxLTliMGUtOWIxZWE2NmU2OWIz%40thread.v2/0?context=%7b%22Tid%22%3a%22d053125f-5322-47cb-8dcc-8ad154eabb30%22%2c%22Oid%22%3a%2226bb04e3-3bdd-4edb-bcd5-30b9714daedf%22%7d', 'None', 'None', '2024-07-29 03:30:00.000000', '2024-07-29 04:00:00.000000', None), (91, 'JKT JKT11 150 KV station P0 meeting', 'https://teams.microsoft.com/l/meetup-join/19%3ameeting_NTdlZjg4ZTItMzkzMS00NzYzLWI1NDYtYjdjZTI4YzExYzJj%40thread.v2/0?context=%7b%22Tid%22%3a%22d053125f-5322-47cb-8dcc-8ad154eabb30%22%2c%22Oid%22%3a%22b6f762ed-d352-4230-a00b-7f0ea334c82f%22%7d', None, None, '2024-07-29 08:00:00.000000', '2024-07-29 08:30:00.000000', None), (92, '【蘇州松下電子】NET検案内', 'https://teams.microsoft.com/l/meetup-join/19%3ameeting_NTNhNjJmNzEtY2Q5ZC00YWZmLTg3ZjYtN2U0ZmU1NGE4OTA0%40thread.v2/0?context=%7b%22Tid%22%3a%22d053125f-5322-47cb-8dcc-8ad154eabb30%22%2c%22Oid%22%3a%22c53fbdfe-b726-431a-885d-b19413f22745%22%7d', 'None', 'None', '2024-07-30 07:00:00.000000', '2024-07-30 08:00:00.000000', None), (93, 'JKT Nipro Indonesia Dialyzer Project P0 meeting', 'https://teams.microsoft.com/l/meetup-join/19%3ameeting_YTkxMDk1NDktOGUxMy00M2I0LWI5MjMtZTIxZWVjZDhjMDI0%40thread.v2/0?context=%7b%22Tid%22%3a%22d053125f-5322-47cb-8dcc-8ad154eabb30%22%2c%22Oid%22%3a%22bb5b764b-f29d-4b09-87bd-660e343dd920%22%7d', None, None, '2024-07-30 03:30:00.000000', '2024-07-30 05:30:00.000000', None), (94, 'HK 24-059 MTR & 24-056 NTR P0 meeting', 'https://teams.microsoft.com/l/meetup-join/19%3ameeting_YzQzNmFjZjItMTIwMi00ZjZkLTgyMmItNDNmMWIwY2Y4NDVi%40thread.v2/0?context=%7b%22Tid%22%3a%22d053125f-5322-47cb-8dcc-8ad154eabb30%22%2c%22Oid%22%3a%22b2010f9a-f82b-44b8-afa8-8a16f6cf3716%22%7d', 'None', 'None', '2024-08-05 03:00:00.000000', '2024-08-05 04:00:00.000000', None), (95, 'HK Net meeting for \"(24-053) MTR - Construction of New Stabling Track with Inspection Pit\" ', 'https://teams.microsoft.com/l/meetup-join/19%3ameeting_M2Q3NzAyYTctYzYxZS00YjFiLWEyZmEtMjJhYWIzZjM3YzE2%40thread.v2/0?context=%7b%22Tid%22%3a%22d053125f-5322-47cb-8dcc-8ad154eabb30%22%2c%22Oid%22%3a%22b2010f9a-f82b-44b8-afa8-8a16f6cf3716%22%7d', None, None, '2024-08-08 03:00:00.000000', '2024-08-08 04:00:00.000000', None), (97, 'Mama flight MNL to KUL (MH705)', 'None', 'None', 'None', '2024-08-20 07:05:00.000000', '2024-08-20 11:00:00.000000', None), (98, 'BGD Jatra DC estimation support meeting', 'https://teams.microsoft.com/l/meetup-join/19%3ameeting_OGFhODQwMzEtYzkyYS00NTQ4LWIwNjItNjcwNTlmZjQyMmM3%40thread.v2/0?context=%7b%22Tid%22%3a%22d053125f-5322-47cb-8dcc-8ad154eabb30%22%2c%22Oid%22%3a%22fa559324-b9b0-454c-aa41-9426346e3199%22%7d', None, None, '2024-07-30 08:00:00.000000', '2024-07-30 09:00:00.000000', None), (99, 'VNM P0 meeting / Nitto Denko Ph5 Finishing work', 'https://teams.microsoft.com/l/meetup-join/19%3ameeting_NGYxNmU2NGItZTNjOC00OGEwLWE3ZGMtN2VhMmFlNWQ1Y2Yw%40thread.v2/0?context=%7b%22Tid%22%3a%22d053125f-5322-47cb-8dcc-8ad154eabb30%22%2c%22Oid%22%3a%2274c984d1-e676-4ca9-aebb-d5b043e8996e%22%7d', None, None, '2024-07-31 03:00:00.000000', '2024-07-31 04:00:00.000000', None), (100, '1st choice of medical check up', 'None', 'None', 'None', '2024-11-24 23:30:00.000000', '2024-11-25 09:00:00.000000', None), (101, '2nd choice of medical check up', 'None', 'None', 'None', '2024-11-17 23:30:00.000000', '2024-11-18 09:00:00.000000', None), (103, 'NH in Philippines (National Heroes Day)', None, None, None, '2024-08-25 16:00:00.000000', '2024-08-25 16:00:00.000000', None), (104, 'NH in Philippines (\\t Ninoy Aquino Day)', 'None', 'None', 'None', '2024-08-22 16:00:00.000000', '2024-08-22 16:00:00.000000', None), (106, 'BGD Jatra DC weekly meeting with PPD', 'https://teams.microsoft.com/l/meetup-join/19%3ameeting_NzE1YmZmZDctZThiYS00Y2EzLThkMjUtZWQ1MjUzY2U4NGFh%40thread.v2/0?context=%7b%22Tid%22%3a%22d053125f-5322-47cb-8dcc-8ad154eabb30%22%2c%22Oid%22%3a%2223c56042-30b6-420a-a3d0-5b99359911b1%22%7d', None, None, '2024-07-31 08:00:00.000000', '2024-07-31 09:00:00.000000', None), (107, 'BGD Jatra DC weekly meeting with PPD', 'https://teams.microsoft.com/l/meetup-join/19%3ameeting_ZTI4NTM3ZjUtZWU2OC00MDU2LTk4NjUtNWUwMTY4MmZlNjQy%40thread.v2/0?context=%7b%22Tid%22%3a%22d053125f-5322-47cb-8dcc-8ad154eabb30%22%2c%22Oid%22%3a%22c45907e3-04e0-41a1-accb-6b4654d62673%22%7d', 'None', 'None', '2024-08-07 07:00:00.000000', '2024-08-07 08:00:00.000000', None), (108, 'BGD Jatra DC weekly meeting with PPD', 'https://teams.microsoft.com/l/meetup-join/19%3ameeting_NzE1YmZmZDctZThiYS00Y2EzLThkMjUtZWQ1MjUzY2U4NGFh%40thread.v2/0?context=%7b%22Tid%22%3a%22d053125f-5322-47cb-8dcc-8ad154eabb30%22%2c%22Oid%22%3a%2223c56042-30b6-420a-a3d0-5b99359911b1%22%7d', 'None', 'None', '2024-08-21 07:00:00.000000', '2024-08-21 08:00:00.000000', None), (109, 'BGD Jatro DC P0 meeting', 'https://teams.microsoft.com/l/meetup-join/19%3ameeting_MGM4NDA0ZDYtNzQzMC00NGM0LTk0OGUtNGExYjVjMDBjNjM0%40thread.v2/0?context=%7b%22Tid%22%3a%22d053125f-5322-47cb-8dcc-8ad154eabb30%22%2c%22Oid%22%3a%2257993e83-90c8-4ff5-80a0-1cac75b0159f%22%7d', 'None', 'None', '2024-08-07 07:40:00.000000', '2024-08-07 08:30:00.000000', None), (110, 'Mama has dinner separately', None, None, None, '2024-08-05 16:00:00.000000', '2024-08-05 16:00:00.000000', None), (111, 'Interview', 'None', 'None', 'None', '2024-08-05 05:30:00.000000', '2024-08-05 07:00:00.000000', None), (113, 'MOTOYUKI MICHIBA', None, None, None, '2024-08-02 16:00:00.000000', '2024-08-02 16:00:00.000000', None), (114, 'Adobe Stock', None, None, None, '2024-08-04 05:00:00.000000', '2024-08-04 06:00:00.000000', None), (115, 'MNL Taiheiyo Cement Kick off meeting', 'Join the meeting now', 'None', 'None', '2024-08-08 06:00:00.000000', '2024-08-08 07:00:00.000000', None), (116, 'IND NIPRO Indonesia Expansion & Renovation Net meeting', 'https://teams.microsoft.com/l/meetup-join/19%3ameeting_MTdiNGU1MTAtNGU0OS00ZTk4LWJmYWYtMjgxZjkyMmQwNTFk%40thread.v2/0?context=%7b%22Tid%22%3a%22d053125f-5322-47cb-8dcc-8ad154eabb30%22%2c%22Oid%22%3a%22bb5b764b-f29d-4b09-87bd-660e343dd920%22%7d', 'None', 'None', '2024-08-20 03:30:00.000000', '2024-08-20 04:30:00.000000', None), (118, 'Interview', None, None, None, '2024-08-06 05:30:00.000000', '2024-08-06 06:30:00.000000', None), (119, 'JKT JKT11 Substation Net meeting', 'https://teams.microsoft.com/l/meetup-join/19%3ameeting_YTA4ZDk1ZGYtMzE3Ny00MTExLTllZDAtOGI5Njc4MDNiY2M0%40thread.v2/0?context=%7b%22Tid%22%3a%22d053125f-5322-47cb-8dcc-8ad154eabb30%22%2c%22Oid%22%3a%22e35d2b83-6939-4fab-9a3e-a23ca1da30d2%22%7d', None, None, '2024-08-08 08:30:00.000000', '2024-08-08 09:30:00.000000', None), (120, 'BKK Analog finishing & MEP Net meeting', 'https://teams.microsoft.com/l/meetup-join/19%3ameeting_OGIxZjNkNWYtZGUzOS00MTM4LWIzMDQtM2FkNDg3Yjg2OTlm%40thread.v2/0?context=%7b%22Tid%22%3a%22d053125f-5322-47cb-8dcc-8ad154eabb30%22%2c%22Oid%22%3a%22f5b8c5bf-3d47-4a17-a4b7-7240d50af4f9%22%7d', None, None, '2024-08-07 08:00:00.000000', '2024-08-07 09:00:00.000000', None), (121, '全国見積TV会議（８月）', 'https://teams.microsoft.com/l/meetup-join/19%3ameeting_NjNjZjhkNzUtMTQ3ZC00MGYwLTkyNDUtMGE5ZjhjZWM0ZDI0%40thread.v2/0?context=%7b%22Tid%22%3a%22b744ca93-8c8c-421b-b169-e0e16a98076a%22%2c%22Oid%22%3a%2263c56f32-631d-41d8-b648-5abec5a44634%22%7d', None, None, '2024-08-20 01:00:00.000000', '2024-08-20 02:00:00.000000', None), (122, 'BGD Jatra DC weekly meeting with PPD', 'https://teams.microsoft.com/l/meetup-join/19%3ameeting_NzE1YmZmZDctZThiYS00Y2EzLThkMjUtZWQ1MjUzY2U4NGFh%40thread.v2/0?context=%7b%22Tid%22%3a%22d053125f-5322-47cb-8dcc-8ad154eabb30%22%2c%22Oid%22%3a%2223c56042-30b6-420a-a3d0-5b99359911b1%22%7d', 'None', 'None', '2024-08-28 07:00:00.000000', '2024-08-28 08:00:00.000000', None), (123, 'JKT\\u3000ダルマイス癌病院FS', 'https://teams.microsoft.com/l/meetup-join/19%3ameeting_ZGEwNTVhNzQtYTJjYi00MjQyLTgxZWUtNTIzZWMwNjllNmEy%40thread.v2/0?context=%7b%22Tid%22%3a%22d053125f-5322-47cb-8dcc-8ad154eabb30%22%2c%22Oid%22%3a%2223c56042-30b6-420a-a3d0-5b99359911b1%22%7d', None, None, '2024-08-08 00:30:00.000000', '2024-08-08 01:30:00.000000', None), (124, '[VN] NET meeting / ATEK BIO new factory Ph1', 'https://teams.microsoft.com/l/meetup-join/19%3ameeting_N2U4NDRlZGUtMWU4Mi00MWQ2LTk0NjEtZWM4ZmE5YTM0ZjM5%40thread.v2/0?context=%7b%22Tid%22%3a%22d053125f-5322-47cb-8dcc-8ad154eabb30%22%2c%22Oid%22%3a%22cd9e8b77-bfaf-4e45-9543-8ea3aa0d5fb6%22%7d', 'None', 'None', '2024-08-08 03:30:00.000000', '2024-08-08 04:00:00.000000', None), (125, 'NH in SIN (National day)', None, None, None, '2024-08-08 16:00:00.000000', '2024-08-08 16:00:00.000000', None), (126, 'Mr. Usui san flight SIN to NRT', None, None, None, '2024-08-08 22:15:00.000000', '2024-08-09 06:30:00.000000', None), (127, 'Mr. Usui san Flight HND to Sin', None, None, None, '2024-08-18 02:55:00.000000', '2024-08-18 09:15:00.000000', None), (128, 'Mr. Usui san Flight SIN to MNL', None, None, None, '2024-08-23 11:25:00.000000', '2024-08-22 18:30:00.000000', None), (129, 'Mr. Usui san Flight MNL to SIN', None, None, None, '2024-08-30 23:40:00.000000', '2024-08-31 03:20:00.000000', None), (130, 'Go to Japanese association clinic', None, None, None, '2024-08-09 06:00:00.000000', '2024-08-09 08:00:00.000000', None), (131, 'P0 Meeting & Net Meeting for \"(24-063) MTR - Replacement of Tunnel Ventilation Fans and Dampers at YMT and CAB\"', 'https://teams.microsoft.com/l/meetup-join/19%3ameeting_ZGUzODhjMTEtZWM0MS00MGMxLWEyNzUtZTliYzczYjFhYTY0%40thread.v2/0?context=%7b%22Tid%22%3a%22d053125f-5322-47cb-8dcc-8ad154eabb30%22%2c%22Oid%22%3a%22b2010f9a-f82b-44b8-afa8-8a16f6cf3716%22%7d', None, None, '2024-08-19 07:00:00.000000', '2024-08-19 08:00:00.000000', None), (132, 'JKT Net meeting Melia Bali Hotel Renovation', 'https://teams.microsoft.com/l/meetup-join/19%3ameeting_MGMxZTQzNDYtNWZkMy00MDUxLWJjYmYtZmQ5ZTJjYzdhMzM0%40thread.v2/0?context=%7b%22Tid%22%3a%22d053125f-5322-47cb-8dcc-8ad154eabb30%22%2c%22Oid%22%3a%22b6f762ed-d352-4230-a00b-7f0ea334c82f%22%7d', None, None, '2024-08-15 07:00:00.000000', '2024-08-15 08:00:00.000000', None), (133, 'Go to immigration office', None, None, None, '2024-08-14 02:30:00.000000', '2024-08-13 16:00:00.000000', None), (134, '[MYS] SICK Sensor - P0 meeting', 'https://teams.microsoft.com/l/meetup-join/19%3ameeting_ZGU4NDliZjEtZTdhMS00M2RhLTkxMmUtMzkzYzdlYTUxZGRh%40thread.v2/0?context=%7b%22Tid%22%3a%22d053125f-5322-47cb-8dcc-8ad154eabb30%22%2c%22Oid%22%3a%2201ea1687-e100-455b-98bc-b3237e4ce9c4%22%7d', None, None, '2024-08-20 05:00:00.000000', '2024-08-20 06:00:00.000000', None), (135, 'test', None, None, None, '2024-09-17 16:00:00.000000', '2024-09-17 16:00:00.000000', None)]\n"
     ]
    }
   ],
   "source": [
    "import sqlite3\n",
    "\n",
    "# Connect to the SQLite database\n",
    "conn = sqlite3.connect('test_08_db_new.db')\n",
    "\n",
    "# Create a cursor object\n",
    "cursor = conn.cursor()\n",
    "\n",
    "# Execute a query to fetch all rows from the 'users' table\n",
    "cursor.execute(\"SELECT * FROM schedules\")\n",
    "\n",
    "# Fetch all rows from the executed query\n",
    "rows = cursor.fetchall()\n",
    "\n",
    "# Print the contents of the 'users' table\n",
    "for row in rows:\n",
    "    print(row)\n",
    "\n",
    "# Close the connection\n",
    "conn.close()\n",
    "\n",
    "print(rows)"
   ]
  },
  {
   "cell_type": "markdown",
   "id": "dacbd934-763c-44ba-a3a6-6a2c531f39a7",
   "metadata": {},
   "source": [
    "#### Indicate table names"
   ]
  },
  {
   "cell_type": "code",
   "execution_count": 36,
   "id": "0cdf703b-edae-4345-9851-b576a7254073",
   "metadata": {},
   "outputs": [],
   "source": [
    "# Indicate table name\n",
    "\n",
    "import sqlite3\n",
    "\n",
    "# Connect to the SQLite database\n",
    "conn = sqlite3.connect('test_08_db_copy.db')\n",
    "\n",
    "# Create a cursor object\n",
    "cursor = conn.cursor()\n",
    "\n",
    "# Execute the query to get table names\n",
    "cursor.execute(\"SELECT name FROM sqlite_master WHERE type='table';\")\n",
    "\n",
    "# Fetch all results\n",
    "tables = cursor.fetchall()\n",
    "\n",
    "# Print the table names\n",
    "for table in tables:\n",
    "    print(table[0])\n",
    "\n",
    "# Close the connection\n",
    "conn.close()"
   ]
  },
  {
   "cell_type": "markdown",
   "id": "d86801b9-009a-4571-b8f3-1fce17673513",
   "metadata": {},
   "source": [
    "#### Indicate column names"
   ]
  },
  {
   "cell_type": "code",
   "execution_count": 9,
   "id": "8f1a6154-2728-43f6-b49e-c20c68c58f2a",
   "metadata": {},
   "outputs": [
    {
     "name": "stdout",
     "output_type": "stream",
     "text": [
      "id\n",
      "name\n",
      "link\n",
      "category\n",
      "status\n",
      "start_datetime\n",
      "end_datetime\n",
      "id_user\n"
     ]
    }
   ],
   "source": [
    "import sqlite3\n",
    "\n",
    "# Connect to the SQLite database\n",
    "conn = sqlite3.connect('test_08_db.db')\n",
    "\n",
    "# Create a cursor object\n",
    "cursor = conn.cursor()\n",
    "\n",
    "# Specify the table name\n",
    "table_name = 'schedules'\n",
    "\n",
    "# Execute the PRAGMA command to get column information\n",
    "cursor.execute(f\"PRAGMA table_info({table_name});\")\n",
    "\n",
    "# Fetch all results\n",
    "columns = cursor.fetchall()\n",
    "\n",
    "# Print the column names\n",
    "for column in columns:\n",
    "    print(column[1])  # The second element in each row is the column name\n",
    "\n",
    "# Close the connection\n",
    "conn.close()"
   ]
  },
  {
   "cell_type": "code",
   "execution_count": null,
   "id": "4a8ff391-0c80-4e77-8b33-87ae5fa73d81",
   "metadata": {},
   "outputs": [],
   "source": []
  },
  {
   "cell_type": "code",
   "execution_count": 39,
   "id": "65fd82be-3e75-451f-b8a6-1225fc93e450",
   "metadata": {},
   "outputs": [
    {
     "name": "stdout",
     "output_type": "stream",
     "text": [
      "Column Names: []\n"
     ]
    },
    {
     "ename": "OperationalError",
     "evalue": "no such table: schedules",
     "output_type": "error",
     "traceback": [
      "\u001b[0;31m---------------------------------------------------------------------------\u001b[0m",
      "\u001b[0;31mOperationalError\u001b[0m                          Traceback (most recent call last)",
      "Cell \u001b[0;32mIn[39], line 33\u001b[0m\n\u001b[1;32m     30\u001b[0m table_name \u001b[38;5;241m=\u001b[39m \u001b[38;5;124m'\u001b[39m\u001b[38;5;124mschedules\u001b[39m\u001b[38;5;124m'\u001b[39m\n\u001b[1;32m     32\u001b[0m \u001b[38;5;66;03m# Fetch and display all data from the specified table\u001b[39;00m\n\u001b[0;32m---> 33\u001b[0m \u001b[43mfetch_all_data\u001b[49m\u001b[43m(\u001b[49m\u001b[43mdb_path\u001b[49m\u001b[43m,\u001b[49m\u001b[43m \u001b[49m\u001b[43mtable_name\u001b[49m\u001b[43m)\u001b[49m\n",
      "Cell \u001b[0;32mIn[39], line 18\u001b[0m, in \u001b[0;36mfetch_all_data\u001b[0;34m(db_path, table_name)\u001b[0m\n\u001b[1;32m     15\u001b[0m \u001b[38;5;28mprint\u001b[39m(\u001b[38;5;124m\"\u001b[39m\u001b[38;5;124mColumn Names:\u001b[39m\u001b[38;5;124m\"\u001b[39m, column_names)\n\u001b[1;32m     17\u001b[0m \u001b[38;5;66;03m# Execute the query to get all data from the table\u001b[39;00m\n\u001b[0;32m---> 18\u001b[0m \u001b[43mcursor\u001b[49m\u001b[38;5;241;43m.\u001b[39;49m\u001b[43mexecute\u001b[49m\u001b[43m(\u001b[49m\u001b[38;5;124;43mf\u001b[39;49m\u001b[38;5;124;43m\"\u001b[39;49m\u001b[38;5;124;43mSELECT * FROM \u001b[39;49m\u001b[38;5;132;43;01m{\u001b[39;49;00m\u001b[43mtable_name\u001b[49m\u001b[38;5;132;43;01m}\u001b[39;49;00m\u001b[38;5;124;43m;\u001b[39;49m\u001b[38;5;124;43m\"\u001b[39;49m\u001b[43m)\u001b[49m\n\u001b[1;32m     19\u001b[0m rows \u001b[38;5;241m=\u001b[39m cursor\u001b[38;5;241m.\u001b[39mfetchall()\n\u001b[1;32m     21\u001b[0m \u001b[38;5;66;03m# Print the data\u001b[39;00m\n",
      "\u001b[0;31mOperationalError\u001b[0m: no such table: schedules"
     ]
    }
   ],
   "source": [
    "import sqlite3\n",
    "\n",
    "def get_column_names(cursor, table_name):\n",
    "    cursor.execute(f\"PRAGMA table_info({table_name});\")\n",
    "    columns = cursor.fetchall()\n",
    "    return [column[1] for column in columns]\n",
    "\n",
    "def fetch_all_data(db_path, table_name):\n",
    "    # Connect to the SQLite database\n",
    "    conn = sqlite3.connect(db_path)\n",
    "    cursor = conn.cursor()\n",
    "\n",
    "    # Get column names\n",
    "    column_names = get_column_names(cursor, table_name)\n",
    "    print(\"Column Names:\", column_names)\n",
    "\n",
    "    # Execute the query to get all data from the table\n",
    "    cursor.execute(f\"SELECT * FROM {table_name};\")\n",
    "    rows = cursor.fetchall()\n",
    "\n",
    "    # Print the data\n",
    "    for row in rows:\n",
    "        print(row)\n",
    "\n",
    "    # Close the connection\n",
    "    conn.close()\n",
    "\n",
    "# Specify the database path and table name\n",
    "db_path = 'test_00.db'\n",
    "table_name = 'schedules'\n",
    "\n",
    "# Fetch and display all data from the specified table\n",
    "fetch_all_data(db_path, table_name)"
   ]
  },
  {
   "cell_type": "code",
   "execution_count": null,
   "id": "03cde2c8-c01e-4c8d-af8a-fcb9d8fcd480",
   "metadata": {},
   "outputs": [],
   "source": []
  },
  {
   "cell_type": "code",
   "execution_count": 23,
   "id": "c199897a-e06a-4f0d-bcf2-292739bb3789",
   "metadata": {},
   "outputs": [],
   "source": [
    "import sqlite3\n",
    "\n",
    "def add_user(db_path, user_data):\n",
    "    # Connect to the SQLite database\n",
    "    conn = sqlite3.connect(db_path)\n",
    "    cursor = conn.cursor()\n",
    "\n",
    "    # Define the SQL query to insert data\n",
    "    query = \"INSERT INTO users (name, age, email) VALUES (?, ?, ?);\"\n",
    "\n",
    "    # Execute the query with the provided user data\n",
    "    cursor.execute(query, user_data)\n",
    "\n",
    "    # Commit the transaction\n",
    "    conn.commit()\n",
    "\n",
    "    # Close the connection\n",
    "    conn.close()\n",
    "\n",
    "# Specify the database path\n",
    "db_path = 'test_00.db'\n",
    "\n",
    "# Define the user data to be added (name, age, email)\n",
    "user_data = ('John Doe', 30, 'john.doe@example.com')\n",
    "\n",
    "# Add the user to the database\n",
    "add_user(db_path, user_data)"
   ]
  },
  {
   "cell_type": "code",
   "execution_count": null,
   "id": "654b277e-8526-4bdc-a9a8-85ad8dd22efc",
   "metadata": {},
   "outputs": [],
   "source": []
  },
  {
   "cell_type": "code",
   "execution_count": 20,
   "id": "c8f79356-8359-47b9-ad92-a505dd1c0f63",
   "metadata": {},
   "outputs": [],
   "source": [
    "import sqlite3\n",
    "\n",
    "def create_database_and_table(db_path):\n",
    "    # Connect to the SQLite database (it will create the database if it doesn't exist)\n",
    "    conn = sqlite3.connect(db_path)\n",
    "    cursor = conn.cursor()\n",
    "\n",
    "    # Define the SQL query to create the table\n",
    "    create_table_query = \"\"\"\n",
    "    CREATE TABLE users (\n",
    "        id INTEGER PRIMARY KEY AUTOINCREMENT,\n",
    "        name TEXT NOT NULL,\n",
    "        age INTEGER NOT NULL,\n",
    "        email TEXT NOT NULL\n",
    "    );\n",
    "    \"\"\"\n",
    "\n",
    "    # Execute the query to create the table\n",
    "    cursor.execute(create_table_query)\n",
    "\n",
    "    # Commit the transaction\n",
    "    conn.commit()\n",
    "\n",
    "    # Close the connection\n",
    "    conn.close()\n",
    "\n",
    "# Specify the database path\n",
    "db_path = 'test_00.db'\n",
    "\n",
    "# Create the database and table\n",
    "create_database_and_table(db_path)"
   ]
  },
  {
   "cell_type": "code",
   "execution_count": null,
   "id": "64397cc7-457a-4cc1-b4ca-86a578fbcc00",
   "metadata": {},
   "outputs": [],
   "source": []
  },
  {
   "cell_type": "code",
   "execution_count": 28,
   "id": "e83b4c37-9feb-4f41-90e1-b709cab12591",
   "metadata": {},
   "outputs": [
    {
     "ename": "FileNotFoundError",
     "evalue": "[Errno 2] No such file or directory: 'user.csv'",
     "output_type": "error",
     "traceback": [
      "\u001b[0;31m---------------------------------------------------------------------------\u001b[0m",
      "\u001b[0;31mFileNotFoundError\u001b[0m                         Traceback (most recent call last)",
      "Cell \u001b[0;32mIn[28], line 3\u001b[0m\n\u001b[1;32m      1\u001b[0m \u001b[38;5;28;01mimport\u001b[39;00m \u001b[38;5;21;01mpandas\u001b[39;00m \u001b[38;5;28;01mas\u001b[39;00m \u001b[38;5;21;01mpd\u001b[39;00m\n\u001b[0;32m----> 3\u001b[0m df_user \u001b[38;5;241m=\u001b[39m \u001b[43mpd\u001b[49m\u001b[38;5;241;43m.\u001b[39;49m\u001b[43mread_csv\u001b[49m\u001b[43m(\u001b[49m\u001b[38;5;124;43m'\u001b[39;49m\u001b[38;5;124;43muser.csv\u001b[39;49m\u001b[38;5;124;43m'\u001b[39;49m\u001b[43m)\u001b[49m\n",
      "File \u001b[0;32m~/python/py31205/.py31205/lib/python3.10/site-packages/pandas/io/parsers/readers.py:1026\u001b[0m, in \u001b[0;36mread_csv\u001b[0;34m(filepath_or_buffer, sep, delimiter, header, names, index_col, usecols, dtype, engine, converters, true_values, false_values, skipinitialspace, skiprows, skipfooter, nrows, na_values, keep_default_na, na_filter, verbose, skip_blank_lines, parse_dates, infer_datetime_format, keep_date_col, date_parser, date_format, dayfirst, cache_dates, iterator, chunksize, compression, thousands, decimal, lineterminator, quotechar, quoting, doublequote, escapechar, comment, encoding, encoding_errors, dialect, on_bad_lines, delim_whitespace, low_memory, memory_map, float_precision, storage_options, dtype_backend)\u001b[0m\n\u001b[1;32m   1013\u001b[0m kwds_defaults \u001b[38;5;241m=\u001b[39m _refine_defaults_read(\n\u001b[1;32m   1014\u001b[0m     dialect,\n\u001b[1;32m   1015\u001b[0m     delimiter,\n\u001b[0;32m   (...)\u001b[0m\n\u001b[1;32m   1022\u001b[0m     dtype_backend\u001b[38;5;241m=\u001b[39mdtype_backend,\n\u001b[1;32m   1023\u001b[0m )\n\u001b[1;32m   1024\u001b[0m kwds\u001b[38;5;241m.\u001b[39mupdate(kwds_defaults)\n\u001b[0;32m-> 1026\u001b[0m \u001b[38;5;28;01mreturn\u001b[39;00m \u001b[43m_read\u001b[49m\u001b[43m(\u001b[49m\u001b[43mfilepath_or_buffer\u001b[49m\u001b[43m,\u001b[49m\u001b[43m \u001b[49m\u001b[43mkwds\u001b[49m\u001b[43m)\u001b[49m\n",
      "File \u001b[0;32m~/python/py31205/.py31205/lib/python3.10/site-packages/pandas/io/parsers/readers.py:620\u001b[0m, in \u001b[0;36m_read\u001b[0;34m(filepath_or_buffer, kwds)\u001b[0m\n\u001b[1;32m    617\u001b[0m _validate_names(kwds\u001b[38;5;241m.\u001b[39mget(\u001b[38;5;124m\"\u001b[39m\u001b[38;5;124mnames\u001b[39m\u001b[38;5;124m\"\u001b[39m, \u001b[38;5;28;01mNone\u001b[39;00m))\n\u001b[1;32m    619\u001b[0m \u001b[38;5;66;03m# Create the parser.\u001b[39;00m\n\u001b[0;32m--> 620\u001b[0m parser \u001b[38;5;241m=\u001b[39m \u001b[43mTextFileReader\u001b[49m\u001b[43m(\u001b[49m\u001b[43mfilepath_or_buffer\u001b[49m\u001b[43m,\u001b[49m\u001b[43m \u001b[49m\u001b[38;5;241;43m*\u001b[39;49m\u001b[38;5;241;43m*\u001b[39;49m\u001b[43mkwds\u001b[49m\u001b[43m)\u001b[49m\n\u001b[1;32m    622\u001b[0m \u001b[38;5;28;01mif\u001b[39;00m chunksize \u001b[38;5;129;01mor\u001b[39;00m iterator:\n\u001b[1;32m    623\u001b[0m     \u001b[38;5;28;01mreturn\u001b[39;00m parser\n",
      "File \u001b[0;32m~/python/py31205/.py31205/lib/python3.10/site-packages/pandas/io/parsers/readers.py:1620\u001b[0m, in \u001b[0;36mTextFileReader.__init__\u001b[0;34m(self, f, engine, **kwds)\u001b[0m\n\u001b[1;32m   1617\u001b[0m     \u001b[38;5;28mself\u001b[39m\u001b[38;5;241m.\u001b[39moptions[\u001b[38;5;124m\"\u001b[39m\u001b[38;5;124mhas_index_names\u001b[39m\u001b[38;5;124m\"\u001b[39m] \u001b[38;5;241m=\u001b[39m kwds[\u001b[38;5;124m\"\u001b[39m\u001b[38;5;124mhas_index_names\u001b[39m\u001b[38;5;124m\"\u001b[39m]\n\u001b[1;32m   1619\u001b[0m \u001b[38;5;28mself\u001b[39m\u001b[38;5;241m.\u001b[39mhandles: IOHandles \u001b[38;5;241m|\u001b[39m \u001b[38;5;28;01mNone\u001b[39;00m \u001b[38;5;241m=\u001b[39m \u001b[38;5;28;01mNone\u001b[39;00m\n\u001b[0;32m-> 1620\u001b[0m \u001b[38;5;28mself\u001b[39m\u001b[38;5;241m.\u001b[39m_engine \u001b[38;5;241m=\u001b[39m \u001b[38;5;28;43mself\u001b[39;49m\u001b[38;5;241;43m.\u001b[39;49m\u001b[43m_make_engine\u001b[49m\u001b[43m(\u001b[49m\u001b[43mf\u001b[49m\u001b[43m,\u001b[49m\u001b[43m \u001b[49m\u001b[38;5;28;43mself\u001b[39;49m\u001b[38;5;241;43m.\u001b[39;49m\u001b[43mengine\u001b[49m\u001b[43m)\u001b[49m\n",
      "File \u001b[0;32m~/python/py31205/.py31205/lib/python3.10/site-packages/pandas/io/parsers/readers.py:1880\u001b[0m, in \u001b[0;36mTextFileReader._make_engine\u001b[0;34m(self, f, engine)\u001b[0m\n\u001b[1;32m   1878\u001b[0m     \u001b[38;5;28;01mif\u001b[39;00m \u001b[38;5;124m\"\u001b[39m\u001b[38;5;124mb\u001b[39m\u001b[38;5;124m\"\u001b[39m \u001b[38;5;129;01mnot\u001b[39;00m \u001b[38;5;129;01min\u001b[39;00m mode:\n\u001b[1;32m   1879\u001b[0m         mode \u001b[38;5;241m+\u001b[39m\u001b[38;5;241m=\u001b[39m \u001b[38;5;124m\"\u001b[39m\u001b[38;5;124mb\u001b[39m\u001b[38;5;124m\"\u001b[39m\n\u001b[0;32m-> 1880\u001b[0m \u001b[38;5;28mself\u001b[39m\u001b[38;5;241m.\u001b[39mhandles \u001b[38;5;241m=\u001b[39m \u001b[43mget_handle\u001b[49m\u001b[43m(\u001b[49m\n\u001b[1;32m   1881\u001b[0m \u001b[43m    \u001b[49m\u001b[43mf\u001b[49m\u001b[43m,\u001b[49m\n\u001b[1;32m   1882\u001b[0m \u001b[43m    \u001b[49m\u001b[43mmode\u001b[49m\u001b[43m,\u001b[49m\n\u001b[1;32m   1883\u001b[0m \u001b[43m    \u001b[49m\u001b[43mencoding\u001b[49m\u001b[38;5;241;43m=\u001b[39;49m\u001b[38;5;28;43mself\u001b[39;49m\u001b[38;5;241;43m.\u001b[39;49m\u001b[43moptions\u001b[49m\u001b[38;5;241;43m.\u001b[39;49m\u001b[43mget\u001b[49m\u001b[43m(\u001b[49m\u001b[38;5;124;43m\"\u001b[39;49m\u001b[38;5;124;43mencoding\u001b[39;49m\u001b[38;5;124;43m\"\u001b[39;49m\u001b[43m,\u001b[49m\u001b[43m \u001b[49m\u001b[38;5;28;43;01mNone\u001b[39;49;00m\u001b[43m)\u001b[49m\u001b[43m,\u001b[49m\n\u001b[1;32m   1884\u001b[0m \u001b[43m    \u001b[49m\u001b[43mcompression\u001b[49m\u001b[38;5;241;43m=\u001b[39;49m\u001b[38;5;28;43mself\u001b[39;49m\u001b[38;5;241;43m.\u001b[39;49m\u001b[43moptions\u001b[49m\u001b[38;5;241;43m.\u001b[39;49m\u001b[43mget\u001b[49m\u001b[43m(\u001b[49m\u001b[38;5;124;43m\"\u001b[39;49m\u001b[38;5;124;43mcompression\u001b[39;49m\u001b[38;5;124;43m\"\u001b[39;49m\u001b[43m,\u001b[49m\u001b[43m \u001b[49m\u001b[38;5;28;43;01mNone\u001b[39;49;00m\u001b[43m)\u001b[49m\u001b[43m,\u001b[49m\n\u001b[1;32m   1885\u001b[0m \u001b[43m    \u001b[49m\u001b[43mmemory_map\u001b[49m\u001b[38;5;241;43m=\u001b[39;49m\u001b[38;5;28;43mself\u001b[39;49m\u001b[38;5;241;43m.\u001b[39;49m\u001b[43moptions\u001b[49m\u001b[38;5;241;43m.\u001b[39;49m\u001b[43mget\u001b[49m\u001b[43m(\u001b[49m\u001b[38;5;124;43m\"\u001b[39;49m\u001b[38;5;124;43mmemory_map\u001b[39;49m\u001b[38;5;124;43m\"\u001b[39;49m\u001b[43m,\u001b[49m\u001b[43m \u001b[49m\u001b[38;5;28;43;01mFalse\u001b[39;49;00m\u001b[43m)\u001b[49m\u001b[43m,\u001b[49m\n\u001b[1;32m   1886\u001b[0m \u001b[43m    \u001b[49m\u001b[43mis_text\u001b[49m\u001b[38;5;241;43m=\u001b[39;49m\u001b[43mis_text\u001b[49m\u001b[43m,\u001b[49m\n\u001b[1;32m   1887\u001b[0m \u001b[43m    \u001b[49m\u001b[43merrors\u001b[49m\u001b[38;5;241;43m=\u001b[39;49m\u001b[38;5;28;43mself\u001b[39;49m\u001b[38;5;241;43m.\u001b[39;49m\u001b[43moptions\u001b[49m\u001b[38;5;241;43m.\u001b[39;49m\u001b[43mget\u001b[49m\u001b[43m(\u001b[49m\u001b[38;5;124;43m\"\u001b[39;49m\u001b[38;5;124;43mencoding_errors\u001b[39;49m\u001b[38;5;124;43m\"\u001b[39;49m\u001b[43m,\u001b[49m\u001b[43m \u001b[49m\u001b[38;5;124;43m\"\u001b[39;49m\u001b[38;5;124;43mstrict\u001b[39;49m\u001b[38;5;124;43m\"\u001b[39;49m\u001b[43m)\u001b[49m\u001b[43m,\u001b[49m\n\u001b[1;32m   1888\u001b[0m \u001b[43m    \u001b[49m\u001b[43mstorage_options\u001b[49m\u001b[38;5;241;43m=\u001b[39;49m\u001b[38;5;28;43mself\u001b[39;49m\u001b[38;5;241;43m.\u001b[39;49m\u001b[43moptions\u001b[49m\u001b[38;5;241;43m.\u001b[39;49m\u001b[43mget\u001b[49m\u001b[43m(\u001b[49m\u001b[38;5;124;43m\"\u001b[39;49m\u001b[38;5;124;43mstorage_options\u001b[39;49m\u001b[38;5;124;43m\"\u001b[39;49m\u001b[43m,\u001b[49m\u001b[43m \u001b[49m\u001b[38;5;28;43;01mNone\u001b[39;49;00m\u001b[43m)\u001b[49m\u001b[43m,\u001b[49m\n\u001b[1;32m   1889\u001b[0m \u001b[43m\u001b[49m\u001b[43m)\u001b[49m\n\u001b[1;32m   1890\u001b[0m \u001b[38;5;28;01massert\u001b[39;00m \u001b[38;5;28mself\u001b[39m\u001b[38;5;241m.\u001b[39mhandles \u001b[38;5;129;01mis\u001b[39;00m \u001b[38;5;129;01mnot\u001b[39;00m \u001b[38;5;28;01mNone\u001b[39;00m\n\u001b[1;32m   1891\u001b[0m f \u001b[38;5;241m=\u001b[39m \u001b[38;5;28mself\u001b[39m\u001b[38;5;241m.\u001b[39mhandles\u001b[38;5;241m.\u001b[39mhandle\n",
      "File \u001b[0;32m~/python/py31205/.py31205/lib/python3.10/site-packages/pandas/io/common.py:873\u001b[0m, in \u001b[0;36mget_handle\u001b[0;34m(path_or_buf, mode, encoding, compression, memory_map, is_text, errors, storage_options)\u001b[0m\n\u001b[1;32m    868\u001b[0m \u001b[38;5;28;01melif\u001b[39;00m \u001b[38;5;28misinstance\u001b[39m(handle, \u001b[38;5;28mstr\u001b[39m):\n\u001b[1;32m    869\u001b[0m     \u001b[38;5;66;03m# Check whether the filename is to be opened in binary mode.\u001b[39;00m\n\u001b[1;32m    870\u001b[0m     \u001b[38;5;66;03m# Binary mode does not support 'encoding' and 'newline'.\u001b[39;00m\n\u001b[1;32m    871\u001b[0m     \u001b[38;5;28;01mif\u001b[39;00m ioargs\u001b[38;5;241m.\u001b[39mencoding \u001b[38;5;129;01mand\u001b[39;00m \u001b[38;5;124m\"\u001b[39m\u001b[38;5;124mb\u001b[39m\u001b[38;5;124m\"\u001b[39m \u001b[38;5;129;01mnot\u001b[39;00m \u001b[38;5;129;01min\u001b[39;00m ioargs\u001b[38;5;241m.\u001b[39mmode:\n\u001b[1;32m    872\u001b[0m         \u001b[38;5;66;03m# Encoding\u001b[39;00m\n\u001b[0;32m--> 873\u001b[0m         handle \u001b[38;5;241m=\u001b[39m \u001b[38;5;28;43mopen\u001b[39;49m\u001b[43m(\u001b[49m\n\u001b[1;32m    874\u001b[0m \u001b[43m            \u001b[49m\u001b[43mhandle\u001b[49m\u001b[43m,\u001b[49m\n\u001b[1;32m    875\u001b[0m \u001b[43m            \u001b[49m\u001b[43mioargs\u001b[49m\u001b[38;5;241;43m.\u001b[39;49m\u001b[43mmode\u001b[49m\u001b[43m,\u001b[49m\n\u001b[1;32m    876\u001b[0m \u001b[43m            \u001b[49m\u001b[43mencoding\u001b[49m\u001b[38;5;241;43m=\u001b[39;49m\u001b[43mioargs\u001b[49m\u001b[38;5;241;43m.\u001b[39;49m\u001b[43mencoding\u001b[49m\u001b[43m,\u001b[49m\n\u001b[1;32m    877\u001b[0m \u001b[43m            \u001b[49m\u001b[43merrors\u001b[49m\u001b[38;5;241;43m=\u001b[39;49m\u001b[43merrors\u001b[49m\u001b[43m,\u001b[49m\n\u001b[1;32m    878\u001b[0m \u001b[43m            \u001b[49m\u001b[43mnewline\u001b[49m\u001b[38;5;241;43m=\u001b[39;49m\u001b[38;5;124;43m\"\u001b[39;49m\u001b[38;5;124;43m\"\u001b[39;49m\u001b[43m,\u001b[49m\n\u001b[1;32m    879\u001b[0m \u001b[43m        \u001b[49m\u001b[43m)\u001b[49m\n\u001b[1;32m    880\u001b[0m     \u001b[38;5;28;01melse\u001b[39;00m:\n\u001b[1;32m    881\u001b[0m         \u001b[38;5;66;03m# Binary mode\u001b[39;00m\n\u001b[1;32m    882\u001b[0m         handle \u001b[38;5;241m=\u001b[39m \u001b[38;5;28mopen\u001b[39m(handle, ioargs\u001b[38;5;241m.\u001b[39mmode)\n",
      "\u001b[0;31mFileNotFoundError\u001b[0m: [Errno 2] No such file or directory: 'user.csv'"
     ]
    }
   ],
   "source": [
    "import pandas as pd\n",
    "\n",
    "df_user = pd.read_csv('user.csv')"
   ]
  },
  {
   "cell_type": "code",
   "execution_count": 1,
   "id": "63e86cf8-cbd7-40c9-a1d7-f3c3132a18a9",
   "metadata": {},
   "outputs": [
    {
     "name": "stdout",
     "output_type": "stream",
     "text": [
      "/Users/motoyuki_michiba/python/py31011/.py31011/bin/python: can't open file '/Users/motoyuki_michiba/python/py31205/vercel_test_00/version': [Errno 2] No such file or directory\n"
     ]
    }
   ],
   "source": [
    "!python version\n"
   ]
  },
  {
   "cell_type": "code",
   "execution_count": 2,
   "id": "1f9f86ea-7f05-464e-9748-a0780e342b54",
   "metadata": {},
   "outputs": [
    {
     "name": "stdout",
     "output_type": "stream",
     "text": [
      "/Users/motoyuki_michiba/python/py31011/.py31011/bin/python: can't open file '/Users/motoyuki_michiba/python/py31205/vercel_test_00/V': [Errno 2] No such file or directory\n"
     ]
    }
   ],
   "source": [
    "!python V\n"
   ]
  },
  {
   "cell_type": "code",
   "execution_count": 3,
   "id": "55ce4b11-9bd4-4ed9-8f90-275006e9a382",
   "metadata": {},
   "outputs": [
    {
     "name": "stdout",
     "output_type": "stream",
     "text": [
      "Python 3.10.11\n"
     ]
    }
   ],
   "source": [
    "!python --version"
   ]
  },
  {
   "cell_type": "code",
   "execution_count": null,
   "id": "8271f67b-94d5-42a4-9dd3-42074d74cb4e",
   "metadata": {},
   "outputs": [],
   "source": []
  }
 ],
 "metadata": {
  "kernelspec": {
   "display_name": "Python 3 (ipykernel)",
   "language": "python",
   "name": "python3"
  },
  "language_info": {
   "codemirror_mode": {
    "name": "ipython",
    "version": 3
   },
   "file_extension": ".py",
   "mimetype": "text/x-python",
   "name": "python",
   "nbconvert_exporter": "python",
   "pygments_lexer": "ipython3",
   "version": "3.10.11"
  }
 },
 "nbformat": 4,
 "nbformat_minor": 5
}
